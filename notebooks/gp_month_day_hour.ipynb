{
 "cells": [
  {
   "cell_type": "markdown",
   "id": "873db996-0139-4637-8055-4253d9a90b65",
   "metadata": {},
   "source": [
    "# Note: This notebook is largely ignorable. Have since deviated from this approach and not bothered to tidy the notebook significantly."
   ]
  },
  {
   "cell_type": "markdown",
   "id": "91ee503b-93a7-4fc4-bc87-518c74e12d57",
   "metadata": {},
   "source": [
    "# Daily + weekly + yearly seasonality model\n",
    "\n",
    "Modelling both daily and weekly seasonality with gaussian process on $log(lambda)$. Modelling yearly seasonality as a scale factor on $lambda$, centered around 1.\n",
    "\n",
    "Next step after this is to include weather effects."
   ]
  },
  {
   "cell_type": "code",
   "execution_count": null,
   "id": "99f275a4-b861-4cc5-ba26-a52e776ea122",
   "metadata": {
    "tags": []
   },
   "outputs": [],
   "source": [
    "from datetime import date\n",
    "\n",
    "import matplotlib.pyplot as plt\n",
    "import seaborn as sns\n",
    "\n",
    "import polars as pl\n",
    "import numpy as np\n",
    "import scipy\n",
    "\n",
    "import pymc as pm\n",
    "import arviz as az\n",
    "\n",
    "import warnings\n",
    "\n",
    "sns.set(rc={'figure.figsize':(17,11)})\n",
    "\n",
    "warnings.filterwarnings(\"ignore\")"
   ]
  },
  {
   "cell_type": "markdown",
   "id": "5574d96f-a131-4726-9894-464be5e8b7fa",
   "metadata": {},
   "source": [
    "## Load data"
   ]
  },
  {
   "cell_type": "code",
   "execution_count": null,
   "id": "6118c745-f2eb-4b80-bf6e-d0ab827d2baa",
   "metadata": {
    "tags": []
   },
   "outputs": [],
   "source": [
    "data = pl.read_parquet(\"../data/counter_data.parquet\").with_columns(pl.col(\"weekday\") - 1)"
   ]
  },
  {
   "cell_type": "code",
   "execution_count": null,
   "id": "3a3889d5-3ef8-4ba3-867d-a9dbea632831",
   "metadata": {
    "tags": []
   },
   "outputs": [],
   "source": [
    "filtered_data = data.filter(\n",
    "    (pl.col(\"year\") == 2022) &\n",
    "    (pl.col(\"site_name\") == \"Thorndon Quay\")\n",
    ").with_columns(\n",
    "    pl.col(\"count_outgoing\").fill_null(0),\n",
    "    (\n",
    "        (\n",
    "            pl.col(\"record_time\").dt.date() - date(year=2022, month=1, day=1)\n",
    "        ).dt.days()\n",
    "    ).alias(\"day_in_year\")\n",
    ")"
   ]
  },
  {
   "cell_type": "markdown",
   "id": "1459691b-5cf6-44cf-b659-3557ebf9602c",
   "metadata": {},
   "source": [
    "## Visualise observations"
   ]
  },
  {
   "cell_type": "code",
   "execution_count": null,
   "id": "e9db61cb-1bcd-4a1d-9f7a-536151cd7e6f",
   "metadata": {},
   "outputs": [],
   "source": [
    "sns.relplot(\n",
    "    data.filter(\n",
    "        (pl.col(\"hour\") >= 7) & \n",
    "        (pl.col(\"hour\") <= 9) &\n",
    "        (pl.col(\"weekday\") < 5)\n",
    "    ).group_by(\n",
    "        \"day_in_year\"\n",
    "    ).agg(\n",
    "        pl.col(\"count_outgoing\").mean().alias(\"mean_count\")\n",
    "    ),\n",
    "    x=\"day_in_year\",\n",
    "    y=\"mean_count\"\n",
    ")"
   ]
  },
  {
   "cell_type": "code",
   "execution_count": null,
   "id": "684b1e16-6c7e-4112-99bb-d9bafb791ba5",
   "metadata": {
    "tags": []
   },
   "outputs": [],
   "source": [
    "sns.relplot(\n",
    "    filtered_data.filter(\n",
    "        (pl.col(\"hour\") >= 7) & \n",
    "        (pl.col(\"hour\") <= 9) &\n",
    "        (pl.col(\"weekday\") < 5)\n",
    "    ).set_sorted(\n",
    "        \"record_time\"\n",
    "    ).group_by_dynamic(\n",
    "        \"record_time\",\n",
    "        every=\"1mo\"\n",
    "    ).agg(\n",
    "        pl.col(\"count_outgoing\").sum().alias(\"month_count\")\n",
    "    ),\n",
    "    x=\"record_time\",\n",
    "    y=\"month_count\"\n",
    ")\n",
    "plt.ylim(0,7000)\n",
    "plt.title(\"Total count for each month\")"
   ]
  },
  {
   "cell_type": "code",
   "execution_count": null,
   "id": "282ede54-e4df-42f7-9ca6-242262cd84a6",
   "metadata": {
    "tags": []
   },
   "outputs": [],
   "source": [
    "sns.relplot(\n",
    "    (\n",
    "        filtered_data.filter(\n",
    "            (pl.col(\"day\") > 7) & (pl.col(\"day\") <= 14)\n",
    "        ).with_columns(\n",
    "            (pl.col(\"weekday\") * 24 + pl.col(\"hour\")).alias(\"day_hour\")\n",
    "        )\n",
    "    ),\n",
    "    x=\"day_hour\", \n",
    "    y=\"count_outgoing\",\n",
    "    kind=\"line\",\n",
    "    col=\"month\",\n",
    "    col_wrap=3,\n",
    ")"
   ]
  },
  {
   "cell_type": "markdown",
   "id": "75463abc-e13a-4b56-9399-11a2f69c9345",
   "metadata": {},
   "source": [
    "## Model"
   ]
  },
  {
   "cell_type": "code",
   "execution_count": null,
   "id": "49d8efce-831a-4056-a725-c61b29a041b4",
   "metadata": {
    "tags": []
   },
   "outputs": [],
   "source": [
    "with pm.Model() as m_4:\n",
    "    hour = pm.MutableData(\"hour\", np.array(filtered_data[\"hour\"]), dims=\"obs_id\")\n",
    "    weekday = pm.MutableData(\"weekday\", np.array(filtered_data[\"weekday\"]), dims=\"obs_id\")\n",
    "    month = pm.MutableData(\"month\", np.array(filtered_data[\"month\"]) - 1, dims=\"obs_id\")\n",
    "    \n",
    "    ls = pm.Exponential(\"ls\", scale=[2, 1, 24])\n",
    "    \n",
    "    # hourly periodic effect\n",
    "    cov_daily = pm.gp.cov.Periodic(1, period=24, ls=ls[0])\n",
    "    \n",
    "    # allowing variability to 24-hour period\n",
    "    cov_daily *= pm.gp.cov.ExpQuad(1, ls=ls[1])\n",
    "    \n",
    "    # weekly periodic effect\n",
    "    cov_weekly = pm.gp.cov.Periodic(1, period=24*7, ls=ls[2])\n",
    "    \n",
    "    # altogether\n",
    "    cov = cov_daily * cov_weekly + pm.gp.cov.WhiteNoise(1e-4)\n",
    "    \n",
    "    # sample hourly * daily alphas\n",
    "    K = cov(np.arange(24 * 7)[:, None]).eval()\n",
    "    mu = pm.Normal(\"mu\", 0, 1, shape=len(K))\n",
    "    alpha = pm.MvNormal(\"alpha\", mu=mu, cov=K, shape=len(K))\n",
    "    lmda = pm.Deterministic(\"lmda\", np.exp(alpha))\n",
    "    \n",
    "    # Monthly multiplier\n",
    "    nu = pm.Beta(\"nu\", 12, 1.25, size=12)\n",
    "    \n",
    "    # sample from Gamma Poisson\n",
    "    phi = pm.Exponential(\"phi\", scale=3)\n",
    "    \n",
    "    c = pm.NegativeBinomial(\n",
    "        \"c\", \n",
    "        alpha=phi, \n",
    "        mu=lmda[weekday * 24 + hour] * nu[month], \n",
    "        observed=np.array(filtered_data[\"count_outgoing\"]), \n",
    "        dims=\"obs_id\"\n",
    "    )\n",
    "    \n",
    "    m_4.debug(verbose=True)\n",
    "    # trace = pm.sample_prior_predictive(1000)\n",
    "    trace = pm.sample(10000, tune=10000)\n",
    "    trace.extend(pm.sample_posterior_predictive(trace))\n",
    "    "
   ]
  },
  {
   "cell_type": "markdown",
   "id": "89a5cdf5-96db-4860-845b-96beeb2e5368",
   "metadata": {},
   "source": [
    "## Trace results"
   ]
  },
  {
   "cell_type": "code",
   "execution_count": null,
   "id": "9f178303-8ab5-485f-b3df-94bb3188eaaa",
   "metadata": {
    "tags": []
   },
   "outputs": [],
   "source": [
    "az.plot_forest(trace, var_names=[\"ls\"])"
   ]
  },
  {
   "cell_type": "code",
   "execution_count": null,
   "id": "43bd8c42-ecb1-40e7-a685-2d716bd4fec9",
   "metadata": {
    "tags": []
   },
   "outputs": [],
   "source": [
    "az.plot_forest(trace, var_names=[\"phi\"])"
   ]
  },
  {
   "cell_type": "code",
   "execution_count": null,
   "id": "60e1b5a3-ccac-4521-acd4-41e52813c148",
   "metadata": {
    "tags": []
   },
   "outputs": [],
   "source": [
    "az.plot_forest(trace, var_names=[\"nu\"])"
   ]
  },
  {
   "cell_type": "code",
   "execution_count": null,
   "id": "caf408b1-f034-4f4d-9c62-8737950f520c",
   "metadata": {
    "tags": []
   },
   "outputs": [],
   "source": [
    "az.plot_trace(trace, compact=False, var_names=[\"ls\", \"nu\", \"phi\", \"lmda\"]);\n",
    "plt.tight_layout()"
   ]
  },
  {
   "cell_type": "markdown",
   "id": "57723712-1a39-4f40-bdb2-b96462fdf968",
   "metadata": {},
   "source": [
    "## Posterior vis"
   ]
  },
  {
   "cell_type": "code",
   "execution_count": null,
   "id": "49ed29d8-f8cd-4177-834c-351bb964808b",
   "metadata": {
    "tags": []
   },
   "outputs": [],
   "source": [
    "m = plt.imshow(np.log(np.array(az.extract(trace.posterior)[\"lmda\"]).mean(axis=1).reshape((7, 24))), cmap=\"inferno\", interpolation=None)\n",
    "plt.colorbar(m)"
   ]
  },
  {
   "cell_type": "markdown",
   "id": "9ae8eee5-e985-46cf-a338-b9efc5075ae7",
   "metadata": {},
   "source": [
    "## Posterior predictions"
   ]
  },
  {
   "cell_type": "code",
   "execution_count": null,
   "id": "4d94fee0-198b-44b4-b827-22a652ceb990",
   "metadata": {
    "tags": []
   },
   "outputs": [],
   "source": [
    "post_preds = np.array(az.extract(trace.posterior_predictive)[\"c\"])\n",
    "post_preds.shape"
   ]
  },
  {
   "cell_type": "code",
   "execution_count": null,
   "id": "852f2f8d-4f19-4360-801e-7c54f0648f69",
   "metadata": {
    "tags": []
   },
   "outputs": [],
   "source": [
    "day_post_preds = np.array([post_preds[i*24:(i+1)*24] for i in range(7)])\n",
    "post_means = day_post_preds.mean(axis=2)\n",
    "post_stds = day_post_preds.std(axis=2)"
   ]
  },
  {
   "cell_type": "code",
   "execution_count": null,
   "id": "2f3abe5b-7545-40d0-bfc7-66d0496badd5",
   "metadata": {
    "tags": []
   },
   "outputs": [],
   "source": [
    "hours = np.arange(24)\n",
    "\n",
    "fig, axs = plt.subplots(nrows=7, sharex=True, sharey=True)\n",
    "for i, (mean, std) in enumerate(zip(post_means, post_stds)):\n",
    "    ax = axs[(i+5) % 7]\n",
    "    ax.plot(hours, mean, label=\"Posterior mean\", color=\"darkorange\", linestyle=\"--\")\n",
    "    ax.fill_between(hours, (mean - std).clip(min=0), (mean + std), alpha=0.3, label=\"1 Std\", color=\"darkorange\")\n",
    "    ax.fill_between(hours, (mean - 2*std).clip(min=0), (mean + 2*std), alpha=0.3, label=\"2 Std\", color=\"darkorange\")\n",
    "\n",
    "plt.xticks(hours)\n",
    "plt.xlim(0,23)\n",
    "plt.ylim(-1,250)\n",
    "\n",
    "fig.supxlabel(\"Hour of day\")\n",
    "fig.supylabel(\"Bikes counted (outgoing)\")\n",
    "fig.legend(loc=\"upper right\")\n",
    "plt.suptitle(\"Per-hour, per-day posterior predictive distribution of outgoing count to two std. (Thorndon Quay, 2022)\")\n",
    "plt.show()"
   ]
  },
  {
   "cell_type": "code",
   "execution_count": null,
   "id": "25ef2c26-40f7-4b3d-b60c-0e94aa4c2e0a",
   "metadata": {},
   "outputs": [],
   "source": []
  }
 ],
 "metadata": {
  "kernelspec": {
   "display_name": "Python 3 (ipykernel)",
   "language": "python",
   "name": "python3"
  },
  "language_info": {
   "codemirror_mode": {
    "name": "ipython",
    "version": 3
   },
   "file_extension": ".py",
   "mimetype": "text/x-python",
   "name": "python",
   "nbconvert_exporter": "python",
   "pygments_lexer": "ipython3",
   "version": "3.10.4"
  }
 },
 "nbformat": 4,
 "nbformat_minor": 5
}
