{
 "cells": [
  {
   "cell_type": "markdown",
   "id": "3d533f16-8135-42e4-97af-33cbfc3601a6",
   "metadata": {},
   "source": [
    "# Goal: Get some interesting baseline stats.\n",
    "\n",
    "- Something on monthly/annual increases in particular spots. \"Twice the number here that we saw last year\""
   ]
  },
  {
   "cell_type": "code",
   "execution_count": null,
   "id": "fedce787-96c9-4233-b220-eb07d6c6b962",
   "metadata": {
    "tags": []
   },
   "outputs": [],
   "source": [
    "import polars as pl\n",
    "import sqlite3\n",
    "from pathlib import Path\n",
    "import matplotlib.pyplot as plt\n",
    "import seaborn as sns\n",
    "\n",
    "from bimodal.cli import YEAR_FILES, load_and_clean_raw"
   ]
  },
  {
   "cell_type": "code",
   "execution_count": null,
   "id": "ae381a3a-2845-487d-bd3a-1aa00e446ac1",
   "metadata": {
    "jupyter": {
     "outputs_hidden": true
    },
    "tags": []
   },
   "outputs": [],
   "source": [
    "(\n",
    "    data.with_columns(\n",
    "        pl.col(\"record_time\").str.to_datetime()\n",
    "    )\n",
    "    .filter(\n",
    "        (pl.col(\"site_name\") == \"Basin Reserve\") & \n",
    "        (pl.col(\"record_time\").dt.year() == 2021) &\n",
    "        (pl.col(\"record_time\").dt.month() == 8)\n",
    "    )\n",
    ")"
   ]
  },
  {
   "cell_type": "code",
   "execution_count": null,
   "id": "e95a491d-9da6-406a-860b-f282de0ba324",
   "metadata": {
    "tags": []
   },
   "outputs": [],
   "source": [
    "RAW_DATA_PATH = Path(\"../data/raw_counter\")"
   ]
  },
  {
   "cell_type": "code",
   "execution_count": null,
   "id": "654c6aef-ff55-41ea-aa40-edf4fd3ed5a8",
   "metadata": {
    "tags": []
   },
   "outputs": [],
   "source": [
    "data = load_and_clean_raw([RAW_DATA_PATH / yf for yf in YEAR_FILES.values()])"
   ]
  },
  {
   "cell_type": "code",
   "execution_count": null,
   "id": "9b21d4b6-3ebf-4d5a-933f-08a25120f297",
   "metadata": {
    "tags": []
   },
   "outputs": [],
   "source": [
    "x = (\n",
    "    data.with_columns(\n",
    "        pl.col(\"record_time\").str.to_datetime()\n",
    "    )\n",
    "    .filter((pl.col(\"site_name\") == \"Basin Reserve\") & (pl.col(\"record_time\").dt.year() >= 2021))\n",
    "    .sort(\"record_time\")\n",
    "    .groupby_dynamic(\"record_time\", every=\"1mo\")\n",
    "    .agg(\n",
    "        pl.col(\"count_incoming\").sum(),\n",
    "        pl.col(\"count_outgoing\").sum(),\n",
    "    )\n",
    "    .with_columns(\n",
    "        pl.col(\"record_time\").dt.year().alias(\"year\"),\n",
    "        (\n",
    "            pl.col(\"record_time\")\n",
    "            .dt\n",
    "            .month()\n",
    "            .map_dict(\n",
    "                {\n",
    "                    1: \"Jan\",\n",
    "                    2: \"Feb\",\n",
    "                    3: \"Mar\",\n",
    "                    4: \"Apr\",\n",
    "                    5: \"May\",\n",
    "                    6: \"Jun\",\n",
    "                    7: \"Jul\",\n",
    "                    8: \"Aug\",\n",
    "                    9: \"Sep\",\n",
    "                    10: \"Oct\",\n",
    "                    11: \"Nov\",\n",
    "                    12: \"Dec\",\n",
    "                },\n",
    "                return_dtype=str\n",
    "            )\n",
    "            .alias(\"month\")\n",
    "        ),\n",
    "    )\n",
    ")"
   ]
  },
  {
   "cell_type": "code",
   "execution_count": null,
   "id": "b4d0b335-f7ae-4f21-b798-56a5ef9a35f8",
   "metadata": {
    "tags": []
   },
   "outputs": [],
   "source": [
    "x"
   ]
  },
  {
   "cell_type": "code",
   "execution_count": null,
   "id": "1d299159-e518-44cc-afe1-d17b5a4f3369",
   "metadata": {
    "tags": []
   },
   "outputs": [],
   "source": [
    "x.to_pandas()"
   ]
  },
  {
   "cell_type": "code",
   "execution_count": null,
   "id": "9bd377a6-6354-4d45-be95-a67037f49e31",
   "metadata": {
    "tags": []
   },
   "outputs": [],
   "source": [
    "c = sns.color_palette(\"crest\", n_colors=6)\n",
    "type(c)"
   ]
  },
  {
   "cell_type": "code",
   "execution_count": null,
   "id": "5583cc75-1c1f-494c-803e-14f5d9253ab9",
   "metadata": {
    "tags": []
   },
   "outputs": [],
   "source": [
    "sns.set_theme()\n",
    "sns.set(rc={'figure.figsize':(10,6)})\n",
    "\n",
    "sns.relplot(\n",
    "    x.filter(pl.col(\"count_incoming\") > 0).to_pandas(), \n",
    "    x=\"month\", \n",
    "    y=\"count_incoming\", \n",
    "    hue=\"year\", \n",
    "    kind=\"line\", \n",
    "    palette=c,\n",
    "    height=4,\n",
    "    aspect=2,\n",
    ").set(title=\"Bike count: Basin Reserve (Incoming)\");\n",
    "\n",
    "plt.xlabel(\"Month\")\n",
    "plt.ylabel(\"Count\")\n",
    "plt.ylim(0,6000)\n",
    "\n",
    "\n",
    "plt.show();"
   ]
  },
  {
   "cell_type": "code",
   "execution_count": null,
   "id": "351a0991-c196-4ea9-be52-55c599540eb1",
   "metadata": {
    "tags": []
   },
   "outputs": [],
   "source": [
    "sns.relplot(x.filter(pl.col(\"count_outgoing\") > 0).to_pandas(), x=\"month\", y=\"count_outgoing\", hue=\"year\", kind=\"line\", palette=c);"
   ]
  },
  {
   "cell_type": "code",
   "execution_count": null,
   "id": "11afe572-ba64-46e9-b024-d5913e587a46",
   "metadata": {
    "tags": []
   },
   "outputs": [],
   "source": [
    "plt.plot((\n",
    "    data.with_columns(\n",
    "        pl.col(\"record_time\").str.to_datetime()\n",
    "    )\n",
    "    .filter(pl.col(\"site_name\") == \"Basin Reserve\")\n",
    "    .sort(\"record_time\")\n",
    "    .groupby_dynamic(\"record_time\", every=\"1mo\")\n",
    "    .agg(\n",
    "        pl.col(\"count_incoming\").sum(),\n",
    "        pl.col(\"count_outgoing\").sum(),\n",
    "    )\n",
    ")[\"count_outgoing\"][45:])"
   ]
  },
  {
   "cell_type": "code",
   "execution_count": null,
   "id": "12e8bf78-ed15-4b5a-a369-560e25c4704d",
   "metadata": {},
   "outputs": [],
   "source": []
  }
 ],
 "metadata": {
  "kernelspec": {
   "display_name": "Python 3 (ipykernel)",
   "language": "python",
   "name": "python3"
  },
  "language_info": {
   "codemirror_mode": {
    "name": "ipython",
    "version": 3
   },
   "file_extension": ".py",
   "mimetype": "text/x-python",
   "name": "python",
   "nbconvert_exporter": "python",
   "pygments_lexer": "ipython3",
   "version": "3.10.4"
  }
 },
 "nbformat": 4,
 "nbformat_minor": 5
}
