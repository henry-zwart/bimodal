{
 "cells": [
  {
   "cell_type": "code",
   "execution_count": 173,
   "id": "1518fd82-19ac-45af-a170-79025e1ca90d",
   "metadata": {
    "tags": []
   },
   "outputs": [],
   "source": [
    "import polars as pl\n",
    "\n",
    "from pathlib import Path"
   ]
  },
  {
   "cell_type": "code",
   "execution_count": 180,
   "id": "f4027a03-158f-44b5-ab60-6c469797b3a5",
   "metadata": {
    "tags": []
   },
   "outputs": [],
   "source": [
    "RAW_DATA_PATH = Path(\"../data/raw_counter\")\n",
    "CLEAN_DATA_PATH = Path(\"../data/clean_counter\")\n",
    "\n",
    "YEAR_FILES = {\n",
    "    2018: Path(\"2018_ecocounter_data_20230905140019.csv\"),\n",
    "    2019: Path(\"2019_ecocounter_data_20230905140408.csv\"),\n",
    "    2020: Path(\"2020_ecocounter_data_20230905140803.csv\"),\n",
    "    2021: Path(\"2021_ecocounter_data_20230905141200.csv\"),\n",
    "    2022: Path(\"2022_ecocounter_data_20230905141557.csv\"),\n",
    "    2023: Path(\"2023_ecocounter_data_20230905141951.csv\"),\n",
    "}\n",
    "\n",
    "RENAME_MAPPING = {\n",
    "    \"Site ID\": \"site_id\",\n",
    "    \"Site name\": \"site_name\",\n",
    "    \"Date/time\": \"record_time\",\n",
    "    \"Incoming count\": \"count_incoming\",\n",
    "    \"Outgoing count\": \"count_outgoing\",\n",
    "}"
   ]
  },
  {
   "cell_type": "markdown",
   "id": "6e5b579a-81d5-4070-a393-5933588dbcfd",
   "metadata": {},
   "source": [
    "**Data issues**\n",
    "- \"Count\" columns are sometimes integer, sometimes string\n",
    "- \"Count\" columns can contain nulls\n",
    "- Current year contains future dates, prepopulated with Null\n",
    "- Each (location,datetime) pair has two rows, for incoming and outgoing counts\n",
    "\n",
    "**Cleaning**\n",
    "1. Select incoming data rows where outgoing data is equal to zero. This eliminates null rows and those where the count is obviously in the other direction\n",
    "2. Select the maximum count value per (location, datetime) pair\n",
    "3. Repeat for outgoing data\n",
    "4. Drop the incoming and outgoing data cols from the original dataframe, and uniquify the the rows to eliminate duplicate (location, datetime) pairs\n",
    "5. Left going against the incoming and outgoing data rows.\n",
    "\n",
    "This deduplicates the rows, ensuring each (location, datetime) occurs in exactly one row, and that the incoming and outgoing counts exist on the same row, while preserving the null information."
   ]
  },
  {
   "cell_type": "code",
   "execution_count": 181,
   "id": "60f2e785-6cef-42f9-8b39-f822cd3da355",
   "metadata": {
    "tags": []
   },
   "outputs": [],
   "source": [
    "for year, yf in YEAR_FILES.items():\n",
    "    data = (\n",
    "        pl.read_csv(RAW_DATA_PATH / yf)\n",
    "        .with_columns(pl.col(\"^.* count$\").cast(pl.Int64))\n",
    "    )\n",
    "    incoming_data = (\n",
    "        data\n",
    "        .filter(\n",
    "            (pl.col(\"Incoming count\").is_not_null()) & \n",
    "            (pl.col(\"Outgoing count\") == 0)\n",
    "        )\n",
    "        .drop(\"Outgoing count\")\n",
    "        .lazy()\n",
    "        .groupby([\"Site ID\", \"Site name\", \"Date/time\"])\n",
    "        .max()\n",
    "        .collect()\n",
    "    )\n",
    "    outgoing_data = (\n",
    "        data\n",
    "        .filter(\n",
    "            (pl.col(\"Outgoing count\").is_not_null()) & \n",
    "            (pl.col(\"Incoming count\") == 0)\n",
    "        )\n",
    "        .drop(\"Incoming count\")\n",
    "        .lazy()\n",
    "        .groupby([\"Site ID\", \"Site name\", \"Date/time\"])\n",
    "        .max()\n",
    "        .collect()\n",
    "    )\n",
    "    cleaned_data = (\n",
    "        data\n",
    "        .drop(\"Incoming count\", \"Outgoing count\")\n",
    "        .unique(maintain_order=True)\n",
    "        .join(incoming_data, on=[\"Site ID\", \"Site name\", \"Date/time\"], how=\"left\")\n",
    "        .join(outgoing_data, on=[\"Site ID\", \"Site name\", \"Date/time\"], how=\"left\")\n",
    "        .rename(RENAME_MAPPING)\n",
    "    )\n",
    "    cleaned_data.write_csv(CLEAN_DATA_PATH / yf)\n"
   ]
  },
  {
   "cell_type": "code",
   "execution_count": 182,
   "id": "80288337-ec88-479a-bfd9-9315d05739bb",
   "metadata": {
    "tags": []
   },
   "outputs": [
    {
     "data": {
      "text/html": [
       "<div><style>\n",
       ".dataframe > thead > tr > th,\n",
       ".dataframe > tbody > tr > td {\n",
       "  text-align: right;\n",
       "}\n",
       "</style>\n",
       "<small>shape: (201_457, 5)</small><table border=\"1\" class=\"dataframe\"><thead><tr><th>site_id</th><th>site_name</th><th>record_time</th><th>count_incoming</th><th>count_outgoing</th></tr><tr><td>i64</td><td>str</td><td>str</td><td>i64</td><td>i64</td></tr></thead><tbody><tr><td>100047097</td><td>&quot;Adelaide Road&quot;</td><td>&quot;2023-01-01T00:…</td><td>3</td><td>1</td></tr><tr><td>100047097</td><td>&quot;Adelaide Road&quot;</td><td>&quot;2023-01-01T01:…</td><td>1</td><td>1</td></tr><tr><td>100047097</td><td>&quot;Adelaide Road&quot;</td><td>&quot;2023-01-01T02:…</td><td>0</td><td>0</td></tr><tr><td>100047097</td><td>&quot;Adelaide Road&quot;</td><td>&quot;2023-01-01T03:…</td><td>0</td><td>0</td></tr><tr><td>100047097</td><td>&quot;Adelaide Road&quot;</td><td>&quot;2023-01-01T04:…</td><td>0</td><td>0</td></tr><tr><td>100047097</td><td>&quot;Adelaide Road&quot;</td><td>&quot;2023-01-01T05:…</td><td>0</td><td>0</td></tr><tr><td>100047097</td><td>&quot;Adelaide Road&quot;</td><td>&quot;2023-01-01T06:…</td><td>1</td><td>1</td></tr><tr><td>100047097</td><td>&quot;Adelaide Road&quot;</td><td>&quot;2023-01-01T07:…</td><td>1</td><td>3</td></tr><tr><td>100047097</td><td>&quot;Adelaide Road&quot;</td><td>&quot;2023-01-01T08:…</td><td>0</td><td>2</td></tr><tr><td>100047097</td><td>&quot;Adelaide Road&quot;</td><td>&quot;2023-01-01T09:…</td><td>1</td><td>2</td></tr><tr><td>100047097</td><td>&quot;Adelaide Road&quot;</td><td>&quot;2023-01-01T10:…</td><td>0</td><td>0</td></tr><tr><td>100047097</td><td>&quot;Adelaide Road&quot;</td><td>&quot;2023-01-01T11:…</td><td>0</td><td>4</td></tr><tr><td>&hellip;</td><td>&hellip;</td><td>&hellip;</td><td>&hellip;</td><td>&hellip;</td></tr><tr><td>100061983</td><td>&quot;Evans Bay Shar…</td><td>&quot;2023-12-31T11:…</td><td>null</td><td>null</td></tr><tr><td>100061983</td><td>&quot;Evans Bay Shar…</td><td>&quot;2023-12-31T12:…</td><td>null</td><td>null</td></tr><tr><td>100061983</td><td>&quot;Evans Bay Shar…</td><td>&quot;2023-12-31T13:…</td><td>null</td><td>null</td></tr><tr><td>100061983</td><td>&quot;Evans Bay Shar…</td><td>&quot;2023-12-31T14:…</td><td>null</td><td>null</td></tr><tr><td>100061983</td><td>&quot;Evans Bay Shar…</td><td>&quot;2023-12-31T15:…</td><td>null</td><td>null</td></tr><tr><td>100061983</td><td>&quot;Evans Bay Shar…</td><td>&quot;2023-12-31T16:…</td><td>null</td><td>null</td></tr><tr><td>100061983</td><td>&quot;Evans Bay Shar…</td><td>&quot;2023-12-31T17:…</td><td>null</td><td>null</td></tr><tr><td>100061983</td><td>&quot;Evans Bay Shar…</td><td>&quot;2023-12-31T18:…</td><td>null</td><td>null</td></tr><tr><td>100061983</td><td>&quot;Evans Bay Shar…</td><td>&quot;2023-12-31T19:…</td><td>null</td><td>null</td></tr><tr><td>100061983</td><td>&quot;Evans Bay Shar…</td><td>&quot;2023-12-31T20:…</td><td>null</td><td>null</td></tr><tr><td>100061983</td><td>&quot;Evans Bay Shar…</td><td>&quot;2023-12-31T21:…</td><td>null</td><td>null</td></tr><tr><td>100061983</td><td>&quot;Evans Bay Shar…</td><td>&quot;2023-12-31T22:…</td><td>null</td><td>null</td></tr></tbody></table></div>"
      ],
      "text/plain": [
       "shape: (201_457, 5)\n",
       "┌───────────┬───────────────────────┬──────────────────────────┬────────────────┬────────────────┐\n",
       "│ site_id   ┆ site_name             ┆ record_time              ┆ count_incoming ┆ count_outgoing │\n",
       "│ ---       ┆ ---                   ┆ ---                      ┆ ---            ┆ ---            │\n",
       "│ i64       ┆ str                   ┆ str                      ┆ i64            ┆ i64            │\n",
       "╞═══════════╪═══════════════════════╪══════════════════════════╪════════════════╪════════════════╡\n",
       "│ 100047097 ┆ Adelaide Road         ┆ 2023-01-01T00:00:00+0000 ┆ 3              ┆ 1              │\n",
       "│ 100047097 ┆ Adelaide Road         ┆ 2023-01-01T01:00:00+0000 ┆ 1              ┆ 1              │\n",
       "│ 100047097 ┆ Adelaide Road         ┆ 2023-01-01T02:00:00+0000 ┆ 0              ┆ 0              │\n",
       "│ 100047097 ┆ Adelaide Road         ┆ 2023-01-01T03:00:00+0000 ┆ 0              ┆ 0              │\n",
       "│ …         ┆ …                     ┆ …                        ┆ …              ┆ …              │\n",
       "│ 100061983 ┆ Evans Bay Shared Path ┆ 2023-12-31T19:00:00+0000 ┆ null           ┆ null           │\n",
       "│ 100061983 ┆ Evans Bay Shared Path ┆ 2023-12-31T20:00:00+0000 ┆ null           ┆ null           │\n",
       "│ 100061983 ┆ Evans Bay Shared Path ┆ 2023-12-31T21:00:00+0000 ┆ null           ┆ null           │\n",
       "│ 100061983 ┆ Evans Bay Shared Path ┆ 2023-12-31T22:00:00+0000 ┆ null           ┆ null           │\n",
       "└───────────┴───────────────────────┴──────────────────────────┴────────────────┴────────────────┘"
      ]
     },
     "execution_count": 182,
     "metadata": {},
     "output_type": "execute_result"
    }
   ],
   "source": [
    "cleaned_data"
   ]
  },
  {
   "cell_type": "code",
   "execution_count": null,
   "id": "6afda500-4a64-48e1-87ca-c0ab033b67c4",
   "metadata": {},
   "outputs": [],
   "source": []
  }
 ],
 "metadata": {
  "kernelspec": {
   "display_name": "Python 3 (ipykernel)",
   "language": "python",
   "name": "python3"
  },
  "language_info": {
   "codemirror_mode": {
    "name": "ipython",
    "version": 3
   },
   "file_extension": ".py",
   "mimetype": "text/x-python",
   "name": "python",
   "nbconvert_exporter": "python",
   "pygments_lexer": "ipython3",
   "version": "3.10.4"
  }
 },
 "nbformat": 4,
 "nbformat_minor": 5
}
