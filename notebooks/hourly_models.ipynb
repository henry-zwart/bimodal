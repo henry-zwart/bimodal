{
 "cells": [
  {
   "cell_type": "code",
   "execution_count": null,
   "id": "004e779d-f297-4b05-bb00-98f1e522dc1e",
   "metadata": {
    "tags": []
   },
   "outputs": [],
   "source": [
    "import datetime\n",
    "import math\n",
    "import holidays\n",
    "\n",
    "import matplotlib.pyplot as plt\n",
    "import seaborn as sns\n",
    "\n",
    "import polars as pl\n",
    "import numpy as np\n",
    "import scipy\n",
    "\n",
    "import pymc as pm\n",
    "import bambi as bmb\n",
    "import arviz as az\n",
    "\n",
    "import warnings\n",
    "\n",
    "import bimodal.config as config\n",
    "\n",
    "sns.set(rc={'figure.figsize':(17,11)})\n",
    "\n",
    "warnings.filterwarnings(\"ignore\")"
   ]
  },
  {
   "cell_type": "markdown",
   "id": "6dd66418-93fe-4aa5-af3a-36a5d1c0f9c5",
   "metadata": {
    "tags": []
   },
   "source": [
    "## Load data"
   ]
  },
  {
   "cell_type": "code",
   "execution_count": null,
   "id": "cee50024-7aee-4dfc-9fad-3bfc635ef0b5",
   "metadata": {
    "tags": []
   },
   "outputs": [],
   "source": [
    "hourly_count_data = pl.read_parquet(\"../data/dataset_hourly_counts.parquet\")"
   ]
  },
  {
   "cell_type": "code",
   "execution_count": null,
   "id": "49e81577-5a74-42c3-96a9-e5e9f2c56005",
   "metadata": {
    "tags": []
   },
   "outputs": [],
   "source": [
    "# Add features for past and future weather. e.g. rainfall in last hour, maximum rainfall in next 1, 3, 6"
   ]
  },
  {
   "cell_type": "code",
   "execution_count": null,
   "id": "e1ff75cf-6cb3-4a0b-8e8b-00141ede20ba",
   "metadata": {},
   "outputs": [],
   "source": [
    "START_YEAR = 2020\n",
    "END_YEAR = 2023\n",
    "\n",
    "SITE_NAMES = [\"Adelaide Road\"]\n",
    "\n",
    "WEEKENDS = True\n",
    "WEEKDAYS = True\n",
    "HOLIDAYS = False\n",
    "\n",
    "filtered_data = hourly_count_data.filter(\n",
    "    (pl.col(\"year\").is_between(START_YEAR, END_YEAR))  &\n",
    "    (pl.col(\"site_name\").is_in(SITE_NAMES))\n",
    ")\n",
    "if WEEKENDS is False:\n",
    "    filtered_data = filtered_data.filter(pl.col(\"weekday\") < 5)\n",
    "if WEEKDAYS is False:\n",
    "    filtered_data = filtered_data.filter(pl.col(\"weekday\") > 4)\n",
    "if HOLIDAYS is False:\n",
    "    filtered_data = filtered_data.filter(pl.col(\"is_holiday\") != 1)\n",
    "    \n"
   ]
  },
  {
   "cell_type": "code",
   "execution_count": null,
   "id": "d1b1d360-43f5-473e-acfa-aa794a21a79f",
   "metadata": {},
   "outputs": [],
   "source": [
    "filtered_data = filtered_data.with_columns(\n",
    "    ((pl.col(\"rainfall\") + 1).log().alias(\"log_rainfall\")),\n",
    "    ((pl.col(\"wind_speed\") - pl.col(\"wind_speed\").mean())/pl.col(\"wind_speed\").std()).alias(\"wind_speed_z\"),\n",
    "    ((pl.col(\"average_temperature\") - pl.col(\"average_temperature\").mean())/pl.col(\"average_temperature\").std()).alias(\"temperature_z\"),\n",
    ").filter(\n",
    "    (pl.col(\"count_outgoing\") > 0) &\n",
    "    (pl.col(\"hour\") == 9) &\n",
    "    (pl.col(\"rainfall\").is_not_null()) &\n",
    "    (pl.col(\"wind_speed\").is_not_null()) &\n",
    "    (pl.col(\"average_temperature\").is_not_null())\n",
    ")"
   ]
  },
  {
   "cell_type": "code",
   "execution_count": null,
   "id": "12050907-0890-4541-8410-570f2f95a364",
   "metadata": {
    "tags": []
   },
   "outputs": [],
   "source": [
    "month = filtered_data.select(\"month\").to_numpy().flatten()\n",
    "weekday = filtered_data.select(\"weekday\").to_numpy().flatten()\n",
    "holiday = filtered_data.select(\"is_holiday\").to_numpy().flatten()\n",
    "time_passed = filtered_data.select(\"time_in_years\").to_numpy().flatten()\n",
    "outgoing_count = filtered_data.select(\"count_outgoing\").to_numpy().flatten()\n",
    "rainfall = filtered_data.select(\"log_rainfall\").to_numpy().flatten()\n",
    "windspeed_z = filtered_data.select(\"wind_speed_z\").to_numpy().flatten()\n",
    "temperature_z = filtered_data.select(\"temperature_z\").to_numpy().flatten()"
   ]
  },
  {
   "cell_type": "markdown",
   "id": "08dca9f0-9717-4d92-be57-6f4a23c4c2da",
   "metadata": {
    "jp-MarkdownHeadingCollapsed": true,
    "tags": []
   },
   "source": [
    "## Helpers"
   ]
  },
  {
   "cell_type": "code",
   "execution_count": null,
   "id": "719d1967-5103-4e78-9ea1-939b9e4a3b29",
   "metadata": {},
   "outputs": [],
   "source": [
    "def plot_daily_posterior_predictive(trace, step, offset=0, hdi=0.9):\n",
    "    hdis = np.array(az.hdi(trace.posterior_predictive.counts, hdi_prob=hdi).to_array()).squeeze(0)\n",
    "    \n",
    "    n_x = (len(trace.observed_data.counts) - offset + step - 1) // step\n",
    "    xs = np.arange(n_x)\n",
    "\n",
    "    plt.title(f\"Posterior predictive range (sampled every {step} days, hdi=0.9)\")\n",
    "    plt.xlabel(\"Day\")\n",
    "    plt.ylabel(\"Bikes counted\")\n",
    "\n",
    "    plt.scatter(xs, trace.observed_data.counts[offset::step], label=\"Observation\")\n",
    "    plt.scatter(xs, trace.posterior_predictive.counts[0,:,offset::step].mean(axis=0), alpha=0.3, color=\"darkorange\", label=\"Posterior predictive mean\")\n",
    "    plt.vlines(xs, hdis[offset::step,0], hdis[offset::step,1], alpha=0.5, color=\"darkorange\", label=\"HDI = 0.9\")\n",
    "\n",
    "    plt.xlim(-1, n_x + 1)\n",
    "    plt.ylim(\n",
    "        -1,\n",
    "        (max(\n",
    "            hdis[offset::step].max(), trace.observed_data.counts[offset::step].max()\n",
    "           ) // 100 + 1\n",
    "        ) * 100\n",
    "    )\n",
    "\n",
    "    plt.legend()\n",
    "    plt.show();"
   ]
  },
  {
   "cell_type": "code",
   "execution_count": null,
   "id": "edc68615-9e29-46df-ad70-89e590e839da",
   "metadata": {
    "tags": []
   },
   "outputs": [],
   "source": [
    "def plot_daily_posterior_predictive_in_range(trace, step, start=0, end=None, hdi=0.9):\n",
    "    if end == None:\n",
    "        end = len(trace.posterior_predictive.counts)\n",
    "    if end < start:\n",
    "        raise RuntimeError(\"Range length must be positive\")\n",
    "    \n",
    "    predicted = trace.posterior_predictive.counts[0,:,start:end:step]\n",
    "    observed = trace.observed_data.counts[start:end:step]\n",
    "    \n",
    "    hdis = np.array(az.hdi(trace.posterior_predictive.counts[:,:,start:end:step], hdi_prob=hdi).to_array()).squeeze(0)\n",
    "    \n",
    "    xs = np.arange(len(observed))\n",
    "\n",
    "    plt.title(f\"Posterior predictive range (sampled every {step} days, hdi=0.9)\")\n",
    "    plt.xlabel(\"Day\")\n",
    "    plt.ylabel(\"Bikes counted\")\n",
    "    \n",
    "    print(predicted.shape)\n",
    "\n",
    "    plt.scatter(xs, observed, label=\"Observation\")\n",
    "    plt.scatter(xs, predicted.mean(axis=0), alpha=0.3, color=\"darkorange\", label=\"Posterior predictive mean\")\n",
    "    plt.vlines(xs, hdis[:,0], hdis[:,1], alpha=0.5, color=\"darkorange\", label=\"HDI = 0.9\")\n",
    "\n",
    "    plt.xlim(-1, len(observed) + 1)\n",
    "    plt.ylim(\n",
    "        -1,\n",
    "        (max(\n",
    "            hdis.max(), observed.max()\n",
    "           ) // 100 + 1\n",
    "        ) * 100\n",
    "    )\n",
    "\n",
    "    plt.legend()\n",
    "    plt.show();"
   ]
  },
  {
   "cell_type": "markdown",
   "id": "be638340-8f8a-42d6-b443-72c2f7f4c65d",
   "metadata": {
    "jp-MarkdownHeadingCollapsed": true,
    "tags": []
   },
   "source": [
    "## First model: Complete pooling"
   ]
  },
  {
   "cell_type": "code",
   "execution_count": null,
   "id": "6d58cd8b-105a-4913-830d-0100f5236d93",
   "metadata": {},
   "outputs": [],
   "source": [
    "with pm.Model() as model_cp:\n",
    "    obs_count = pm.ConstantData(\"counts_obs\", outgoing_count, dims=\"day\")\n",
    "    time = pm.ConstantData(\"time\", time_passed, dims=\"day\")\n",
    "    \n",
    "    γ = pm.Normal(\"γ\", 0, 5)\n",
    "    β = pm.Normal(\"β\", 0, 0.1)\n",
    "    μ = pm.Deterministic(\"μ\", np.exp(γ + β*time))\n",
    "    α = pm.Exponential(\"α\", 1)\n",
    "    counts = pm.NegativeBinomial(\"counts\", mu=μ, alpha=α, observed=obs_count, dims=\"day\")"
   ]
  },
  {
   "cell_type": "markdown",
   "id": "38a3c350-3ff4-4658-bf0a-05d4ab8da7ba",
   "metadata": {
    "jp-MarkdownHeadingCollapsed": true,
    "tags": []
   },
   "source": [
    "## Second model: pool over weekdays"
   ]
  },
  {
   "cell_type": "code",
   "execution_count": null,
   "id": "cb9707c1-329e-4631-b4b6-28ecb72d7575",
   "metadata": {
    "tags": []
   },
   "outputs": [],
   "source": [
    "coords = {\n",
    "    \"weekday\": [\"Monday\", \"Tuesday\", \"Wednesday\", \"Thursday\", \"Friday\", \"Saturday\", \"Sunday\"],\n",
    "    \"day_type\": [\"Weekday\", \"Weekend\"],\n",
    "}\n",
    "\n",
    "with pm.Model(coords=coords) as model_pool_d:\n",
    "    obs_count = pm.ConstantData(\"obs_count\", outgoing_count, dims=\"day\")\n",
    "    obs_weekday = pm.ConstantData(\"obs_weekday\", weekday, dims=\"day\")\n",
    "    time = pm.ConstantData(\"time\", time_passed, dims=\"day\")\n",
    "    \n",
    "    γ_wd_σ = pm.HalfNormal(\"γ_wd_σ\", 0.25, dims=\"day_type\")\n",
    "    γ_wd_z = pm.Normal(\"γ_wd_z\", 0, 1, dims=\"weekday\")\n",
    "    \n",
    "    σ_indexes = np.where(np.arange(7) < 5, 0, 1)\n",
    "    γ_wd = pm.Deterministic(\"γ_wd\", γ_wd_z * γ_wd_σ[σ_indexes], dims=\"weekday\")\n",
    "    \n",
    "    γ = pm.Normal(\"γ\", 5.3, 0.15)\n",
    "    β = pm.Normal(\"β\", 0, 0.1)\n",
    "    μ = pm.Deterministic(\"μ\", np.exp(γ + γ_wd[obs_weekday] + β*time), dims=\"day\")\n",
    "    α = pm.Exponential(\"α\", 1)\n",
    "    \n",
    "    counts = pm.NegativeBinomial(\"counts\", mu=μ, alpha=α, observed=obs_count, dims=\"day\")"
   ]
  },
  {
   "cell_type": "markdown",
   "id": "a518b9cb-66c0-4c67-ac63-6d63a28d9417",
   "metadata": {
    "jp-MarkdownHeadingCollapsed": true,
    "tags": []
   },
   "source": [
    "## Third model: pool day and month"
   ]
  },
  {
   "cell_type": "code",
   "execution_count": null,
   "id": "c710bbe6-13e2-44fb-b063-f32334be4c44",
   "metadata": {
    "tags": []
   },
   "outputs": [],
   "source": [
    "coords = {\n",
    "    \"weekday\": [\"Monday\", \"Tuesday\", \"Wednesday\", \"Thursday\", \"Friday\", \"Saturday\", \"Sunday\"],\n",
    "    \"day_type\": [\"Weekday\", \"Weekend\"],\n",
    "    \"month\": [\"January\", \"February\", \"March\", \"April\", \"May\", \"June\", \"July\", \"August\", \"September\", \"October\", \"November\", \"December\"]\n",
    "}\n",
    "\n",
    "with pm.Model(coords=coords) as model_pool_dm:\n",
    "    obs_count = pm.ConstantData(\"obs_count\", outgoing_count, dims=\"day\")\n",
    "    obs_weekday = pm.ConstantData(\"obs_weekday\", weekday, dims=\"day\")\n",
    "    obs_month = pm.ConstantData(\"obs_month\", month - 1, dims=\"day\")\n",
    "    time = pm.ConstantData(\"time\", time_passed, dims=\"day\")\n",
    "    \n",
    "    γ_wd_σ = pm.HalfNormal(\"γ_wd_σ\", 0.25, dims=\"day_type\")\n",
    "    γ_wd_z = pm.Normal(\"γ_wd_z\", 0, 1, dims=\"weekday\")\n",
    "    \n",
    "    γ_m_σ = pm.HalfNormal(\"γ_m_σ\", 0.25)\n",
    "    γ_m_z = pm.Normal(\"γ_m_z\", 0, 1, dims=\"month\")\n",
    "    \n",
    "    σ_indexes = np.where(np.arange(7) < 5, 0, 1)\n",
    "    γ_wd = pm.Deterministic(\"γ_wd\", γ_wd_z * γ_wd_σ[σ_indexes], dims=\"weekday\")\n",
    "    γ_m = pm.Deterministic(\"γ_m\", γ_m_z * γ_m_σ, dims=\"month\")\n",
    "    \n",
    "    γ = pm.Normal(\"γ\", 5.3, 0.15)\n",
    "    β = pm.Normal(\"β\", 0, 0.1)\n",
    "    μ = pm.Deterministic(\"μ\", np.exp(γ + γ_wd[obs_weekday] + γ_m[obs_month] + β*time), dims=\"day\")\n",
    "    α = pm.Exponential(\"α\", 1)\n",
    "    \n",
    "    counts = pm.NegativeBinomial(\"counts\", mu=μ, alpha=α, observed=obs_count, dims=\"day\")"
   ]
  },
  {
   "cell_type": "markdown",
   "id": "2141fd5a-3b30-42d6-935b-fc21c47b0bd9",
   "metadata": {
    "jp-MarkdownHeadingCollapsed": true,
    "tags": []
   },
   "source": [
    "## Model 4: Pool day + month, weather features"
   ]
  },
  {
   "cell_type": "code",
   "execution_count": null,
   "id": "b4d4df4b-3c31-4047-8884-c874a29dafeb",
   "metadata": {
    "tags": []
   },
   "outputs": [],
   "source": [
    "coords = {\n",
    "    \"weekday\": [\"Monday\", \"Tuesday\", \"Wednesday\", \"Thursday\", \"Friday\", \"Saturday\", \"Sunday\"],\n",
    "    \"day_type\": [\"Weekday\", \"Weekend\"],\n",
    "    \"month\": [\"January\", \"February\", \"March\", \"April\", \"May\", \"June\", \"July\", \"August\", \"September\", \"October\", \"November\", \"December\"],\n",
    "    \"weather_type\": [\"Rain\", \"Wind\", \"Temperature\"],\n",
    "}\n",
    "\n",
    "with pm.Model(coords=coords) as model_pool_dm_weather:\n",
    "    obs_count = pm.ConstantData(\"obs_count\", outgoing_count, dims=\"day\")\n",
    "    obs_weekday = pm.ConstantData(\"obs_weekday\", weekday, dims=\"day\")\n",
    "    obs_month = pm.ConstantData(\"obs_month\", month, dims=\"day\")\n",
    "    obs_rain = pm.ConstantData(\"obs_rain\", rainfall, dims=\"day\")\n",
    "    obs_wind = pm.ConstantData(\"obs_wind\", windspeed_z, dims=\"day\")\n",
    "    obs_temp = pm.ConstantData(\"obs_temp\", temperature_z, dims=\"day\")\n",
    "    time = pm.ConstantData(\"time\", time_passed, dims=\"day\")\n",
    "    \n",
    "    γ_wd_σ = pm.HalfNormal(\"γ_wd_σ\", 0.25, dims=\"day_type\")\n",
    "    γ_wd_z = pm.Normal(\"γ_wd_z\", 0, 1, dims=\"weekday\")\n",
    "    \n",
    "    γ_m_σ = pm.HalfNormal(\"γ_m_σ\", 0.25)\n",
    "    γ_m_z = pm.Normal(\"γ_m_z\", 0, 1, dims=\"month\")\n",
    "    \n",
    "    β_weather = pm.Normal(\"β_weather\", 0, 0.1, dims=\"weather_type\")\n",
    "    \n",
    "    σ_indexes = np.where(np.arange(7) < 5, 0, 1)\n",
    "    γ_wd = pm.Deterministic(\"γ_wd\", γ_wd_z * γ_wd_σ[σ_indexes], dims=\"weekday\")\n",
    "    γ_m = pm.Deterministic(\"γ_m\", γ_m_z * γ_m_σ, dims=\"month\")\n",
    "    \n",
    "    γ = pm.Normal(\"γ\", 5.3, 0.15)\n",
    "    β = pm.Normal(\"β\", 0, 0.1)\n",
    "    μ = pm.Deterministic(\n",
    "        \"μ\", \n",
    "        np.exp(\n",
    "            γ + \n",
    "            γ_wd[obs_weekday] + \n",
    "            γ_m[obs_month] + \n",
    "            β_weather[0] * obs_rain +\n",
    "            β_weather[1] * obs_wind +\n",
    "            β_weather[2] * obs_temp +\n",
    "            β*time\n",
    "        ), \n",
    "        dims=\"day\"\n",
    "    )\n",
    "    \n",
    "    α = pm.Exponential(\"α\", 1)\n",
    "    \n",
    "    counts = pm.NegativeBinomial(\"counts\", mu=μ, alpha=α, observed=obs_count, dims=\"day\")"
   ]
  },
  {
   "cell_type": "markdown",
   "id": "6d8a0369-cd83-4447-85c8-eecace55a5b6",
   "metadata": {
    "tags": []
   },
   "source": [
    "## Analysis"
   ]
  },
  {
   "cell_type": "code",
   "execution_count": null,
   "id": "82377772-a584-42df-b0ed-dd777be557aa",
   "metadata": {
    "tags": []
   },
   "outputs": [],
   "source": [
    "models = {\n",
    "    \"No pooling\": model_cp,\n",
    "    \"Pool days\": model_pool_d,\n",
    "    \"Pool days + months\": model_pool_dm,\n",
    "    \"Pool days + months, w weather\": model_pool_dm_weather,\n",
    "}\n",
    "\n",
    "traces = {}\n",
    "for name, model in models.items():\n",
    "    with model:\n",
    "        trace = pm.sample_prior_predictive(1000)\n",
    "        trace.extend(pm.sample(10000, tune=10000, target_accept=0.98))\n",
    "        trace.extend(pm.sample_posterior_predictive(trace))\n",
    "        pm.compute_log_likelihood(trace)\n",
    "    traces[name] = trace"
   ]
  },
  {
   "cell_type": "code",
   "execution_count": null,
   "id": "f134fdb7-290e-4d0e-bc78-6d397931159e",
   "metadata": {
    "tags": []
   },
   "outputs": [],
   "source": [
    "az.compare(traces)"
   ]
  },
  {
   "cell_type": "code",
   "execution_count": null,
   "id": "b92a31d5-0f9e-49b6-be97-38ad92030218",
   "metadata": {
    "tags": []
   },
   "outputs": [],
   "source": [
    "for trace in traces.values():\n",
    "    plot_daily_posterior_predictive(trace, 12)"
   ]
  },
  {
   "cell_type": "code",
   "execution_count": null,
   "id": "d440d076-f2c8-4a7a-8cce-ab97bc44fd32",
   "metadata": {
    "tags": []
   },
   "outputs": [],
   "source": [
    "for trace in traces.values():\n",
    "    plot_daily_posterior_predictive_in_range(trace, 3, 365, 730)"
   ]
  },
  {
   "cell_type": "code",
   "execution_count": null,
   "id": "41a27c2b-d769-46ab-9bb3-79e1c0870a81",
   "metadata": {
    "tags": []
   },
   "outputs": [],
   "source": [
    "az.plot_trace(traces[\"Pool days + months, w weather\"], var_names=[\"~μ\", \"~γ_wd_z\", \"γ_m_z\"])\n",
    "plt.tight_layout();"
   ]
  },
  {
   "cell_type": "code",
   "execution_count": null,
   "id": "900357c6-d4c2-4abd-bcb7-f271da63dd50",
   "metadata": {
    "tags": []
   },
   "outputs": [],
   "source": [
    "for param in \"γβα\":\n",
    "    ax = az.plot_forest(\n",
    "        list(traces.values()),\n",
    "        model_names=list(traces.keys()),\n",
    "        var_names=param,\n",
    "        figsize=(11.5, 5),\n",
    "    )\n",
    "    ax[0].set_title(f\"Estimated {param} for {SITE_NAMES[0]} bike count model\")\n",
    "\n",
    "    plt.show()"
   ]
  },
  {
   "cell_type": "code",
   "execution_count": null,
   "id": "57d27aa0-fff4-464f-9b8a-1e53b5417dda",
   "metadata": {},
   "outputs": [],
   "source": []
  }
 ],
 "metadata": {
  "kernelspec": {
   "display_name": "Python 3 (ipykernel)",
   "language": "python",
   "name": "python3"
  },
  "language_info": {
   "codemirror_mode": {
    "name": "ipython",
    "version": 3
   },
   "file_extension": ".py",
   "mimetype": "text/x-python",
   "name": "python",
   "nbconvert_exporter": "python",
   "pygments_lexer": "ipython3",
   "version": "3.10.4"
  }
 },
 "nbformat": 4,
 "nbformat_minor": 5
}
