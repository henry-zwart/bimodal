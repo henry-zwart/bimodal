{
 "cells": [
  {
   "cell_type": "markdown",
   "id": "aa7edfba-4427-4ca1-aaf3-46202d01680d",
   "metadata": {},
   "source": [
    "# Note: This notebook is largely ignorable. Have since deviated from this approach and not bothered to tidy the notebook significantly."
   ]
  },
  {
   "cell_type": "markdown",
   "id": "91ee503b-93a7-4fc4-bc87-518c74e12d57",
   "metadata": {},
   "source": [
    "# Daily + weekly seasonality model\n",
    "\n",
    "Modelling both daily and weekly seasonality with gaussian process on $log(lambda)$"
   ]
  },
  {
   "cell_type": "code",
   "execution_count": null,
   "id": "99f275a4-b861-4cc5-ba26-a52e776ea122",
   "metadata": {
    "tags": []
   },
   "outputs": [],
   "source": [
    "import matplotlib.pyplot as plt\n",
    "import seaborn as sns\n",
    "\n",
    "import polars as pl\n",
    "import numpy as np\n",
    "import scipy\n",
    "\n",
    "import pymc as pm\n",
    "import arviz as az\n",
    "\n",
    "import warnings\n",
    "\n",
    "sns.set(rc={'figure.figsize':(17,11)})\n",
    "\n",
    "warnings.filterwarnings(\"ignore\")"
   ]
  },
  {
   "cell_type": "markdown",
   "id": "8dca6578-4660-4920-be10-b2702e020b1a",
   "metadata": {},
   "source": [
    "## Load data"
   ]
  },
  {
   "cell_type": "code",
   "execution_count": null,
   "id": "6118c745-f2eb-4b80-bf6e-d0ab827d2baa",
   "metadata": {
    "tags": []
   },
   "outputs": [],
   "source": [
    "data = pl.read_parquet(\"../data/counter_data.parquet\").with_columns(pl.col(\"weekday\") - 1)"
   ]
  },
  {
   "cell_type": "code",
   "execution_count": null,
   "id": "3a3889d5-3ef8-4ba3-867d-a9dbea632831",
   "metadata": {
    "tags": []
   },
   "outputs": [],
   "source": [
    "filtered_data = data.filter(\n",
    "    (pl.col(\"year\") == 2022) &\n",
    "    (pl.col(\"site_name\") == \"Thorndon Quay\")\n",
    ").with_columns(\n",
    "    pl.col(\"count_outgoing\").fill_null(0)\n",
    ")"
   ]
  },
  {
   "cell_type": "code",
   "execution_count": null,
   "id": "282ede54-e4df-42f7-9ca6-242262cd84a6",
   "metadata": {
    "tags": []
   },
   "outputs": [],
   "source": [
    "sns.relplot(\n",
    "    (\n",
    "        filtered_data.filter(\n",
    "            (pl.col(\"day\") > 7) & (pl.col(\"day\") <= 14)\n",
    "        ).with_columns(\n",
    "            (pl.col(\"weekday\") * 24 + pl.col(\"hour\")).alias(\"day_hour\")\n",
    "        )\n",
    "    ),\n",
    "    x=\"day_hour\", \n",
    "    y=\"count_outgoing\",\n",
    "    kind=\"line\",\n",
    "    col=\"month\",\n",
    "    col_wrap=3,\n",
    ")"
   ]
  },
  {
   "cell_type": "code",
   "execution_count": null,
   "id": "aaa6a3d8-2b2e-4601-bf73-e0c829fa1fa9",
   "metadata": {
    "tags": []
   },
   "outputs": [],
   "source": [
    "sns.relplot(\n",
    "    (\n",
    "        filtered_data.filter(\n",
    "            (pl.col(\"month\") == 10) &\n",
    "            (pl.col(\"day\") <= 7)\n",
    "        )\n",
    "        .with_columns(\n",
    "            (pl.col(\"weekday\") * 24 + pl.col(\"hour\")).alias(\"day_hour\")\n",
    "        )\n",
    "    ), \n",
    "    x=\"day_hour\", \n",
    "    y=\"count_outgoing\",\n",
    "    kind=\"line\"\n",
    ")\n",
    "plt.xlabel(\"Days since start\")\n",
    "plt.ylabel(\"Outgoing count\")\n",
    "plt.ylim(-1,200)\n",
    "plt.xlim(0,24*5)\n",
    "plt.xticks([24*i for i in range(6)], list(range(6)))\n",
    "plt.title(\"Outgoing count per-hour for first five weekdays in October, Thorndon Quay, 2022\", pad=20);"
   ]
  },
  {
   "cell_type": "markdown",
   "id": "9ffb6e6e-62d3-42f9-a7e1-38c68cef81b4",
   "metadata": {},
   "source": [
    "## Model"
   ]
  },
  {
   "cell_type": "markdown",
   "id": "915b4769-9cba-4ffd-aafb-32dea6fd40bb",
   "metadata": {},
   "source": [
    "Model describes bike count $c_i$ as GammaPoisson distribution conditional on time of day, for data sampled where: \n",
    "\n",
    "- location = \"Thorndon Quay\"\n",
    "- year = 2022\n",
    "- day = {monday, tuesday, wednesday, thursday, friday}\n",
    "- direction = \"Outgoing\"\n",
    "\n",
    "$hour[i]$ is indexed hour of day for sample $i$, with \"12am-1am\" = 0. \n",
    "\n",
    "\\begin{align}\n",
    "c_i &\\sim GammaPoisson(\\phi, \\mu_i) \\\\\n",
    "\\log{(\\mu_i)} &= \\lambda_{hour[i]} \\\\\n",
    "\\lambda_{j = 0..23} &\\sim MVNormal([0,0,\\dots,0]^T, K) \\\\\n",
    "K &= Periodic(24, \\tau) \\\\\n",
    "\\phi &\\sim Exponential(1) \\\\\n",
    "\\tau &\\sim Exponential(0.1)\n",
    "\\end{align}"
   ]
  },
  {
   "cell_type": "code",
   "execution_count": null,
   "id": "49d8efce-831a-4056-a725-c61b29a041b4",
   "metadata": {
    "tags": []
   },
   "outputs": [],
   "source": [
    "with pm.Model() as m_3:\n",
    "    hour = pm.MutableData(\"hour\", np.array(filtered_data[\"hour\"]), dims=\"obs_id\")\n",
    "    weekday = pm.MutableData(\"weekday\", np.array(filtered_data[\"weekday\"]), dims=\"obs_id\")\n",
    "    \n",
    "    ls = pm.Exponential(\"ls\", scale=[2, 1, 24])\n",
    "    \n",
    "    # hourly periodic effect\n",
    "    cov_daily = pm.gp.cov.Periodic(1, period=24, ls=ls[0])\n",
    "    \n",
    "    # allowing variability to 24-hour period\n",
    "    cov_daily *= pm.gp.cov.ExpQuad(1, ls=ls[1])\n",
    "    \n",
    "    # weekly periodic effect\n",
    "    cov_weekly = pm.gp.cov.Periodic(1, period=24*7, ls=ls[2])\n",
    "    \n",
    "    # altogether\n",
    "    cov = cov_daily * cov_weekly + pm.gp.cov.WhiteNoise(1e-4)\n",
    "    \n",
    "    # sample hourly * daily alphas\n",
    "    K = cov(np.arange(24 * 7)[:, None]).eval()\n",
    "    mu = pm.Normal(\"mu\", 0, 1, shape=len(K))\n",
    "    alpha = pm.MvNormal(\"alpha\", mu=mu, cov=K, shape=len(K))\n",
    "    \n",
    "    # exponentiate to get lambda\n",
    "    lmda = np.exp(\n",
    "        alpha[weekday * 24 + hour]\n",
    "    )\n",
    "    \n",
    "    # sample from Gamma Poisson\n",
    "    phi = pm.Exponential(\"phi\", scale=3)\n",
    "    c = pm.NegativeBinomial(\"c\", alpha=phi, mu=lmda, observed=np.array(filtered_data[\"count_outgoing\"]), dims=\"obs_id\")\n",
    "    \n",
    "    m_3.debug(verbose=True)\n",
    "    # trace = pm.sample_prior_predictive(1000)\n",
    "    trace = pm.sample(10000, tune=10000)\n",
    "    trace.extend(pm.sample_posterior_predictive(trace))\n",
    "    "
   ]
  },
  {
   "cell_type": "markdown",
   "id": "284f7b49-d51a-47e7-b11f-c8018d319977",
   "metadata": {},
   "source": [
    "## Trace results"
   ]
  },
  {
   "cell_type": "code",
   "execution_count": null,
   "id": "9f178303-8ab5-485f-b3df-94bb3188eaaa",
   "metadata": {
    "tags": []
   },
   "outputs": [],
   "source": [
    "az.plot_forest(trace, var_names=[\"ls\"])"
   ]
  },
  {
   "cell_type": "code",
   "execution_count": null,
   "id": "43bd8c42-ecb1-40e7-a685-2d716bd4fec9",
   "metadata": {
    "tags": []
   },
   "outputs": [],
   "source": [
    "az.plot_forest(trace, var_names=[\"phi\"])"
   ]
  },
  {
   "cell_type": "code",
   "execution_count": null,
   "id": "caf408b1-f034-4f4d-9c62-8737950f520c",
   "metadata": {
    "tags": []
   },
   "outputs": [],
   "source": [
    "az.plot_trace(trace, compact=False, var_names=[\"ls\", \"phi\", \"beta\", \"alpha\"]);\n",
    "plt.tight_layout()"
   ]
  },
  {
   "cell_type": "markdown",
   "id": "478a1645-fc2b-4441-8536-da8966f9221a",
   "metadata": {},
   "source": [
    "## Posterior"
   ]
  },
  {
   "cell_type": "code",
   "execution_count": null,
   "id": "49ed29d8-f8cd-4177-834c-351bb964808b",
   "metadata": {
    "tags": []
   },
   "outputs": [],
   "source": [
    "m = plt.imshow(np.array(az.extract(trace.posterior)[\"alpha\"]).mean(axis=1).reshape((7, 24)), cmap=\"inferno\", interpolation=None)\n",
    "plt.colorbar(m)"
   ]
  },
  {
   "cell_type": "markdown",
   "id": "f52129d0-7492-4010-b23c-166ebf20dae7",
   "metadata": {},
   "source": [
    "## Posterior predictions"
   ]
  },
  {
   "cell_type": "code",
   "execution_count": null,
   "id": "4d94fee0-198b-44b4-b827-22a652ceb990",
   "metadata": {
    "tags": []
   },
   "outputs": [],
   "source": [
    "post_preds = np.array(az.extract(trace.posterior_predictive)[\"c\"])\n",
    "post_preds.shape"
   ]
  },
  {
   "cell_type": "code",
   "execution_count": null,
   "id": "852f2f8d-4f19-4360-801e-7c54f0648f69",
   "metadata": {
    "tags": []
   },
   "outputs": [],
   "source": [
    "day_post_preds = np.array([post_preds[23 + 72 + 72:][i*24:(i+1)*24] for i in range(7)])\n",
    "post_means = day_post_preds.mean(axis=2)\n",
    "post_stds = day_post_preds.std(axis=2)"
   ]
  },
  {
   "cell_type": "code",
   "execution_count": null,
   "id": "2f3abe5b-7545-40d0-bfc7-66d0496badd5",
   "metadata": {
    "tags": []
   },
   "outputs": [],
   "source": [
    "hours = np.arange(24)\n",
    "\n",
    "fig, axs = plt.subplots(nrows=7, sharex=True)\n",
    "for i, (mean, std) in enumerate(zip(post_means, post_stds)):\n",
    "    ax = axs[(i+5) % 7]\n",
    "    ax.plot(hours, mean, label=\"Posterior mean\", color=\"darkorange\", linestyle=\"--\")\n",
    "    ax.fill_between(hours, (mean - std).clip(min=0), (mean + std), alpha=0.3, label=\"1 Std\", color=\"darkorange\")\n",
    "    ax.fill_between(hours, (mean - 2*std).clip(min=0), (mean + 2*std), alpha=0.3, label=\"2 Std\", color=\"darkorange\")\n",
    "\n",
    "plt.xticks(hours)\n",
    "plt.xlim(0,23)\n",
    "\n",
    "fig.supxlabel(\"Hour of day\")\n",
    "fig.supylabel(\"Bikes counted (outgoing)\")\n",
    "fig.legend(loc=\"upper right\")\n",
    "plt.suptitle(\"Per-hour, per-day posterior predictive distribution of outgoing count to two std. (Thorndon Quay, 2022)\")\n",
    "plt.show()"
   ]
  },
  {
   "cell_type": "markdown",
   "id": "279dd5aa-2760-4980-9f1e-ebcba49bc227",
   "metadata": {},
   "source": [
    "## Correlation between 8am and 9am in observations vs posterior predictions\n",
    "\n",
    "Shows strong correlation in observations but none/weak in predictions"
   ]
  },
  {
   "cell_type": "code",
   "execution_count": null,
   "id": "25ef2c26-40f7-4b3d-b60c-0e94aa4c2e0a",
   "metadata": {},
   "outputs": [],
   "source": [
    "df_preds = filtered_data.with_columns(\n",
    "    pl.Series(name=\"predictions\", values=trace.posterior_predictive[\"c\"][0,0,:].to_numpy())\n",
    ").filter(\n",
    "    (pl.col(\"weekday\") < 5) &\n",
    "    (pl.col(\"hour\") >= 8) &\n",
    "    (pl.col(\"hour\") <= 9)\n",
    ").pivot(index=[\"year\", \"month\", \"day\"], columns=\"hour\", values=[\"predictions\", \"count_outgoing\"])"
   ]
  },
  {
   "cell_type": "code",
   "execution_count": null,
   "id": "52b852f6-6275-4d0a-be58-5406a313bfc1",
   "metadata": {
    "tags": []
   },
   "outputs": [],
   "source": [
    "df_preds"
   ]
  },
  {
   "cell_type": "code",
   "execution_count": null,
   "id": "91ac118f-6bd9-4789-909b-1264f90ecaeb",
   "metadata": {
    "tags": []
   },
   "outputs": [],
   "source": [
    "sns.relplot(df_preds, x=\"predictions_hour_8\", y=\"predictions_hour_9\")\n",
    "sns.relplot(df_preds, x=\"count_outgoing_hour_8\", y=\"count_outgoing_hour_9\")\n",
    "plt.xlim(0,250)\n",
    "plt.ylim(0,450)"
   ]
  },
  {
   "cell_type": "code",
   "execution_count": null,
   "id": "6be38e13-ca10-4424-9656-4d78f45e5776",
   "metadata": {
    "tags": []
   },
   "outputs": [],
   "source": [
    "sns.displot(\n",
    "    (\n",
    "        df_preds.filter(\n",
    "            (pl.col(\"weekday\") < 5) &\n",
    "            (pl.col(\"hour\") > 6) &\n",
    "            (pl.col(\"hour\") < 10)\n",
    "        ).set_sorted(\n",
    "            pl.col(\"record_time\")\n",
    "        ).group_by_dynamic(\n",
    "            pl.col(\"record_time\"), \n",
    "            every=\"1d\"\n",
    "        ).agg(\n",
    "            pl.col(\"count_outgoing\").sum(), \n",
    "            pl.col(\"predictions\").sum()\n",
    "        ).melt(\n",
    "            id_vars=\"record_time\",\n",
    "            value_vars=[\"count_outgoing\", \"predictions\"]\n",
    "        )\n",
    "    ),\n",
    "    x=\"value\",\n",
    "    hue=\"variable\",\n",
    ")"
   ]
  },
  {
   "cell_type": "code",
   "execution_count": null,
   "id": "9b2f7848-f731-40b4-84d4-cb6ee7916c96",
   "metadata": {},
   "outputs": [],
   "source": [
    "sns.relplot(df_preds, x=\")"
   ]
  }
 ],
 "metadata": {
  "kernelspec": {
   "display_name": "Python 3 (ipykernel)",
   "language": "python",
   "name": "python3"
  },
  "language_info": {
   "codemirror_mode": {
    "name": "ipython",
    "version": 3
   },
   "file_extension": ".py",
   "mimetype": "text/x-python",
   "name": "python",
   "nbconvert_exporter": "python",
   "pygments_lexer": "ipython3",
   "version": "3.10.4"
  }
 },
 "nbformat": 4,
 "nbformat_minor": 5
}
