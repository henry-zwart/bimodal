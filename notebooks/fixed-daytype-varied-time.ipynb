{
 "cells": [
  {
   "cell_type": "code",
   "execution_count": null,
   "id": "99f275a4-b861-4cc5-ba26-a52e776ea122",
   "metadata": {
    "tags": []
   },
   "outputs": [],
   "source": [
    "import matplotlib.pyplot as plt\n",
    "import seaborn as sns\n",
    "\n",
    "import polars as pl\n",
    "import numpy as np\n",
    "import scipy\n",
    "\n",
    "import pymc as pm\n",
    "import arviz as az\n",
    "\n",
    "import warnings\n",
    "\n",
    "sns.set(rc={'figure.figsize':(17,11)})\n",
    "\n",
    "warnings.filterwarnings(\"ignore\")"
   ]
  },
  {
   "cell_type": "markdown",
   "id": "a90f8256-2d41-4b97-aca0-a8188a27e84c",
   "metadata": {},
   "source": [
    "## Load data\n",
    "\n",
    "Restrict to Thorndon Quay weekdays in 2022"
   ]
  },
  {
   "cell_type": "code",
   "execution_count": null,
   "id": "6118c745-f2eb-4b80-bf6e-d0ab827d2baa",
   "metadata": {
    "tags": []
   },
   "outputs": [],
   "source": [
    "data = pl.read_parquet(\"../data/counter_data.parquet\").with_columns(pl.col(\"weekday\") - 1)"
   ]
  },
  {
   "cell_type": "code",
   "execution_count": null,
   "id": "3a3889d5-3ef8-4ba3-867d-a9dbea632831",
   "metadata": {
    "tags": []
   },
   "outputs": [],
   "source": [
    "filtered_data = data.filter(\n",
    "    (pl.col(\"year\") == 2022) &\n",
    "    (pl.col(\"site_name\") == \"Thorndon Quay\") &\n",
    "    (pl.col(\"weekday\") < 5)\n",
    ")"
   ]
  },
  {
   "cell_type": "markdown",
   "id": "66ea0484-5561-4334-b964-bd2da502f1ec",
   "metadata": {},
   "source": [
    "## Visualise observations"
   ]
  },
  {
   "cell_type": "code",
   "execution_count": null,
   "id": "aaa6a3d8-2b2e-4601-bf73-e0c829fa1fa9",
   "metadata": {
    "tags": []
   },
   "outputs": [],
   "source": [
    "sns.relplot(\n",
    "    (\n",
    "        filtered_data.filter(\n",
    "            (pl.col(\"month\") == 10) &\n",
    "            (pl.col(\"day\") <= 7)\n",
    "        )\n",
    "        .with_columns(\n",
    "            (pl.col(\"weekday\") * 24 + pl.col(\"hour\")).alias(\"day_hour\")\n",
    "        )\n",
    "    ), \n",
    "    x=\"day_hour\", \n",
    "    y=\"count_outgoing\",\n",
    "    kind=\"line\"\n",
    ")\n",
    "plt.xlabel(\"Days since start\")\n",
    "plt.ylabel(\"Outgoing count\")\n",
    "plt.ylim(-1,200)\n",
    "plt.xlim(0,24*5)\n",
    "plt.xticks([24*i for i in range(6)], list(range(6)))\n",
    "plt.title(\"Outgoing count per-hour for first five weekdays in October, Thorndon Quay, 2022\", pad=20);"
   ]
  },
  {
   "cell_type": "markdown",
   "id": "c79ab743-dfb8-4979-8065-e7513ea09d72",
   "metadata": {},
   "source": [
    "## Model"
   ]
  },
  {
   "cell_type": "markdown",
   "id": "915b4769-9cba-4ffd-aafb-32dea6fd40bb",
   "metadata": {},
   "source": [
    "Model describes bike count $c_i$ as GammaPoisson distribution conditional on time of day, for data sampled where: \n",
    "\n",
    "- location = \"Thorndon Quay\"\n",
    "- year = 2022\n",
    "- day = {monday, tuesday, wednesday, thursday, friday}\n",
    "- direction = \"Outgoing\"\n",
    "\n",
    "$hour[i]$ is indexed hour of day for sample $i$, with \"12am-1am\" = 0. \n",
    "\n",
    "\\begin{align}\n",
    "c_i &\\sim GammaPoisson(\\phi, \\mu_i) \\\\\n",
    "\\log{(\\mu_i)} &= \\lambda_{hour[i]} \\\\\n",
    "\\lambda_{j = 0..23} &\\sim MVNormal([0,0,\\dots,0]^T, K) \\\\\n",
    "K &= Periodic(24, \\tau) \\\\\n",
    "\\phi &\\sim Exponential(1) \\\\\n",
    "\\tau &\\sim Exponential(0.1)\n",
    "\\end{align}"
   ]
  },
  {
   "cell_type": "code",
   "execution_count": null,
   "id": "f71fd3fc-193f-4a70-b199-2e8480aa38eb",
   "metadata": {
    "tags": []
   },
   "outputs": [],
   "source": [
    "with pm.Model(coords={\"hour\": np.arange(24)}) as m_1:\n",
    "    hour_idx = pm.MutableData(\"hour_idx\", np.array(filtered_data[\"hour\"]), dims=\"obs_id\")\n",
    "    \n",
    "    # Per-hour effect\n",
    "    tau = pm.Exponential(\"tau\", scale=0.1)\n",
    "    cov = pm.gp.cov.Periodic(1, period=24, ls=tau)\n",
    "    cov += pm.gp.cov.WhiteNoise(1e-4)\n",
    "    K = cov(np.arange(24)[:, None]).eval()\n",
    "    \n",
    "    alpha_h = pm.MvNormal(\"alpha_h\", mu=np.zeros(len(K)), cov=K, dims=\"hour\")\n",
    "    lmda_h = pm.Deterministic(\"lmda_h\", np.exp(alpha_h))\n",
    "    \n",
    "    phi = pm.Exponential(\"phi\", scale=3)\n",
    "    c = pm.NegativeBinomial(\"c\", alpha=phi, mu=lmda_h[hour_idx], observed=np.array(filtered_data[\"count_outgoing\"]), dims=\"obs_id\")\n",
    "    \n",
    "    m_1.debug(verbose=True)\n",
    "    trace = pm.sample_prior_predictive(1000)\n",
    "    trace.extend(pm.sample(10000, tune=10000))\n",
    "    trace.extend(pm.sample_posterior_predictive(trace))\n",
    "    "
   ]
  },
  {
   "cell_type": "code",
   "execution_count": null,
   "id": "fae9782f-d7b3-42d3-aadb-6ef2e0596fdb",
   "metadata": {
    "tags": []
   },
   "outputs": [],
   "source": [
    "pm.model_to_graphviz(m_1)"
   ]
  },
  {
   "cell_type": "markdown",
   "id": "c645b694-399b-419b-8c81-e8b51ed8065e",
   "metadata": {},
   "source": [
    "## Trace results"
   ]
  },
  {
   "cell_type": "code",
   "execution_count": null,
   "id": "39219b59-b685-41de-a5d7-011be5d502fc",
   "metadata": {
    "tags": []
   },
   "outputs": [],
   "source": [
    "az.plot_forest(trace, var_names=[\"tau\"])"
   ]
  },
  {
   "cell_type": "code",
   "execution_count": null,
   "id": "23425fc0-9668-4437-b157-1f1a2cbbb82f",
   "metadata": {
    "tags": []
   },
   "outputs": [],
   "source": [
    "az.plot_forest(trace, var_names=[\"phi\"])"
   ]
  },
  {
   "cell_type": "code",
   "execution_count": null,
   "id": "44043c29-60e8-4281-8e58-6a7d6cc5213d",
   "metadata": {
    "tags": []
   },
   "outputs": [],
   "source": [
    "az.plot_forest(trace, var_names=[\"lmda_h\"])"
   ]
  },
  {
   "cell_type": "code",
   "execution_count": null,
   "id": "caf408b1-f034-4f4d-9c62-8737950f520c",
   "metadata": {
    "tags": []
   },
   "outputs": [],
   "source": [
    "az.plot_trace(trace, compact=False, var_names=[\"tau\", \"phi\", \"lmda_h\"]);\n",
    "plt.tight_layout()"
   ]
  },
  {
   "cell_type": "markdown",
   "id": "2afdc1ea-f437-4fcb-9b8b-4ec2f3bbdf62",
   "metadata": {},
   "source": [
    "## Visualise posterior preds"
   ]
  },
  {
   "cell_type": "code",
   "execution_count": null,
   "id": "4d94fee0-198b-44b4-b827-22a652ceb990",
   "metadata": {
    "tags": []
   },
   "outputs": [],
   "source": [
    "post_preds = np.array(az.extract(trace.posterior_predictive)[\"c\"])"
   ]
  },
  {
   "cell_type": "code",
   "execution_count": null,
   "id": "39fde4ed-460c-460f-83f8-ec11072a0cd6",
   "metadata": {
    "tags": []
   },
   "outputs": [],
   "source": [
    "observed_stats = (\n",
    "    filtered_data.groupby(\n",
    "        pl.col(\"hour\"), \n",
    "        maintain_order=True\n",
    "    ).agg(\n",
    "        pl.col(\"count_outgoing\").mean().alias(\"count_mean\"), \n",
    "    )\n",
    ")"
   ]
  },
  {
   "cell_type": "code",
   "execution_count": null,
   "id": "6d676479-29f6-472d-b1d4-e102f4a5b7f0",
   "metadata": {
    "tags": []
   },
   "outputs": [],
   "source": [
    "hours = np.arange(24)\n",
    "\n",
    "obs_mean = observed_stats.select(\"count_mean\").to_numpy().flatten()\n",
    "\n",
    "post_mean = post_preds[:24].mean(axis=1)\n",
    "post_std = post_preds[:24].std(axis=1)\n",
    "\n",
    "plt.plot(hours, obs_mean, label=\"Observation mean\", color=\"blue\")\n",
    "plt.plot(np.arange(24), post_mean, label=\"Posterior mean\", color=\"darkorange\", linestyle=\"--\")\n",
    "plt.fill_between(np.arange(24), (post_mean - post_std).clip(min=0), mu + std, alpha=0.3, label=\"1 Std\", color=\"darkorange\")\n",
    "plt.fill_between(np.arange(24), (post_mean - 2*post_std).clip(min=0), mu + 2*std, alpha=0.3, label=\"2 Std\", color=\"darkorange\")\n",
    "plt.xticks(np.arange(24))\n",
    "plt.xlim(0,23)\n",
    "plt.ylim(-1,250)\n",
    "plt.xlabel(\"Hour of day\")\n",
    "plt.ylabel(\"Bikes counted (outgoing)\")\n",
    "plt.legend()\n",
    "plt.title(\"Per-hour posterior predictive distribution of outgoing count to two std. (Thorndon Quay, 2022, Mon-Fri)\")\n",
    "plt.show()"
   ]
  },
  {
   "cell_type": "code",
   "execution_count": null,
   "id": "bc1bc706-0d75-44c1-8769-277c39ea3cb0",
   "metadata": {
    "tags": []
   },
   "outputs": [],
   "source": [
    "fig, axs = plt.subplots(6, 4, figsize=(18,24))\n",
    "\n",
    "hour_lookup = np.arange(12)\n",
    "hour_lookup[0] = 12\n",
    "\n",
    "for i, hour_df in filtered_data.group_by(pl.col(\"hour\"), maintain_order=True):\n",
    "    obs = hour_df.select(pl.col(\"count_outgoing\")).to_numpy().flatten()\n",
    "    post = post_preds[i]\n",
    "    ax = axs[i//4][i%4]\n",
    "    sns.histplot([obs, post], discrete=True, stat=\"proportion\", common_norm=False, fill=True, ax=ax, legend=False)\n",
    "    ampm_0 = \"pm\" if i // 12 == 1 else \"am\"\n",
    "    ampm_1 = \"pm\" if (i+1) // 12 == 1 else \"am\"\n",
    "    ax.set_title(f\"{hour_lookup[i % 12]}{ampm_0} --> {hour_lookup[(i+1) % 12]}{ampm_1}\")\n",
    "\n",
    "\n",
    "plt.suptitle(\"Per-hour posterior predictions vs. observations, outgoing counts (Thorndon Quay, 2022, Mon-Fri)\")\n",
    "plt.tight_layout(rect=[0, 0.03, 1, 0.99])\n",
    "fig.show()\n",
    "fig.savefig(\"tq_oc_per_hour_posterior_pred.png\")"
   ]
  },
  {
   "cell_type": "code",
   "execution_count": null,
   "id": "25ef2c26-40f7-4b3d-b60c-0e94aa4c2e0a",
   "metadata": {},
   "outputs": [],
   "source": []
  }
 ],
 "metadata": {
  "kernelspec": {
   "display_name": "Python 3 (ipykernel)",
   "language": "python",
   "name": "python3"
  },
  "language_info": {
   "codemirror_mode": {
    "name": "ipython",
    "version": 3
   },
   "file_extension": ".py",
   "mimetype": "text/x-python",
   "name": "python",
   "nbconvert_exporter": "python",
   "pygments_lexer": "ipython3",
   "version": "3.10.4"
  }
 },
 "nbformat": 4,
 "nbformat_minor": 5
}
