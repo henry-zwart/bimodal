{
 "cells": [
  {
   "cell_type": "markdown",
   "id": "3beeabd4-1753-4e26-b6ce-66fc1a814625",
   "metadata": {},
   "source": [
    "# Findings\n",
    "\n",
    "Need to account for public holidays. October 24th (Labour day) had abnormally low numbers with good weather."
   ]
  },
  {
   "cell_type": "markdown",
   "id": "6427ddb2-d550-47a4-9f84-65f9ba03c2f6",
   "metadata": {},
   "source": [
    "- Tried categorising lambda on the day of the week. Found the days are actually somewhat different, so this is useful. Though it may be a good idea to do this via a multi-level model. Might need to split weekday and weekend if I do.\n",
    "\n",
    "- Could try also categorising lambda on the location. Almost certainly want to use a multi-level model for that since we expect locations to show similar behaviour.\n",
    "\n",
    "I think for this notebook, its probably enough to do the multi-level model for lambda based on day-of-week. After this, we should try to figure out how to get time data included. Probably involves gaussian process."
   ]
  },
  {
   "cell_type": "code",
   "execution_count": null,
   "id": "99f275a4-b861-4cc5-ba26-a52e776ea122",
   "metadata": {
    "tags": []
   },
   "outputs": [],
   "source": [
    "import matplotlib.pyplot as plt\n",
    "import seaborn as sns\n",
    "\n",
    "import polars as pl\n",
    "import numpy as np\n",
    "import scipy\n",
    "\n",
    "import pymc as pm\n",
    "import arviz as az\n",
    "\n",
    "import warnings\n",
    "\n",
    "warnings.filterwarnings(\"ignore\")"
   ]
  },
  {
   "cell_type": "markdown",
   "id": "9d0e247f-f6e9-4580-90fb-a50eaafd4b05",
   "metadata": {},
   "source": [
    "# Load data\n",
    "\n",
    "Restrict to 2022, Thorndon Quay, 8am"
   ]
  },
  {
   "cell_type": "code",
   "execution_count": null,
   "id": "6118c745-f2eb-4b80-bf6e-d0ab827d2baa",
   "metadata": {
    "tags": []
   },
   "outputs": [],
   "source": [
    "data = pl.read_parquet(\"../data/counter_data.parquet\").with_columns(pl.col(\"weekday\") - 1)"
   ]
  },
  {
   "cell_type": "code",
   "execution_count": null,
   "id": "3a3889d5-3ef8-4ba3-867d-a9dbea632831",
   "metadata": {
    "tags": []
   },
   "outputs": [],
   "source": [
    "filtered_data = data.filter(\n",
    "    (pl.col(\"year\") == 2022) & \n",
    "    (pl.col(\"site_name\") == \"Thorndon Quay\") &\n",
    "    (pl.col(\"hour\") == 8)\n",
    ")"
   ]
  },
  {
   "cell_type": "markdown",
   "id": "c9405eac-50ea-4e10-a3b7-4ea33ce9c94a",
   "metadata": {},
   "source": [
    "## View observed distribution"
   ]
  },
  {
   "cell_type": "code",
   "execution_count": null,
   "id": "362c087d-bf66-4d8d-a6a6-81142507e0d0",
   "metadata": {
    "tags": []
   },
   "outputs": [],
   "source": [
    "sns.catplot(\n",
    "    filtered_data.with_columns(\n",
    "        pl.col(\"weekday\").map_dict({0: \"Mon\", 1: \"Tue\", 2: \"Wed\", 3: \"Thu\", 4: \"Fri\", 5: \"Sat\", 6: \"Sun\"}),\n",
    "        pl.col(\"count_outgoing\").cast(float),\n",
    "        (pl.col(\"count_outgoing\") == 0).alias(\"Count = 0\")\n",
    "    ).to_pandas(), \n",
    "    x=\"weekday\", \n",
    "    y=\"count_outgoing\", \n",
    "    hue=\"Count = 0\", \n",
    "    s=15, \n",
    "    kind=\"swarm\", \n",
    "    order=\"Mon,Tue,Wed,Thu,Fri,Sat,Sun\".split(\",\")\n",
    ")\n",
    "plt.ylabel(\"Count\")\n",
    "plt.xlabel(\"Weekday\")\n",
    "plt.title(\"Outgoing bike count per day-of-week, Thorndon Quay, 2022\");"
   ]
  },
  {
   "cell_type": "markdown",
   "id": "efba174e-a2d9-4e2c-a1af-e88ada34e081",
   "metadata": {},
   "source": [
    "## Model"
   ]
  },
  {
   "cell_type": "markdown",
   "id": "d0275b31-3322-43ab-b3e1-fcda4986b81c",
   "metadata": {},
   "source": [
    "Model describes bike count $c_i$ as GammaPoisson distribution conditional on day of the week, for data sampled where: \n",
    "\n",
    "- location = \"Thorndon Quay\"\n",
    "- year = 2022\n",
    "- time = 8am - 9am\n",
    "- direction = \"Outgoing\"\n",
    "\n",
    "$weekday[i]$ is indexed day of week for sample $i$, with Monday = 0. \n",
    "\n",
    "$is\\_weekend[i]$ is 0 if weekday index $i$ is in Monday - Friday, and 1 if $i$ is in Saturday - Sunday. \n",
    "\n",
    "\\begin{align}\n",
    "c_i &\\sim GammaPoisson(\\phi, \\mu_{weekday[i]}) \\\\\n",
    "\\mu_{j = 0..6} &\\sim Gamma(\\alpha_{is\\_weekday[j]}, \\beta_{is\\_weekday[j]}) \\\\\n",
    "\\alpha_{0..1} &\\sim HalfNormal(2.5) \\\\\n",
    "\\beta_{0..1} &\\sim Exponential(1) \\\\\n",
    "\\phi &\\sim Exponential(1)\n",
    "\\end{align}"
   ]
  },
  {
   "cell_type": "code",
   "execution_count": null,
   "id": "525aa6db-c42f-41a3-8de7-ff5c359208ea",
   "metadata": {
    "tags": []
   },
   "outputs": [],
   "source": [
    "with pm.Model(coords={\"weekday\": [\"Mon\", \"Tue\", \"Wed\", \"Thu\", \"Fri\", \"Sat\", \"Sun\"], \"day_type\": [\"weekday\", \"weekend\"]}) as m_1:\n",
    "    \n",
    "    weekday_idx = pm.MutableData(\"weekday_idx\", np.array(filtered_data[\"weekday\"]), dims=\"obs_id\")\n",
    "    \n",
    "    alpha = pm.HalfNormal(\"alpha\", sigma=2.5, dims=\"day_type\")\n",
    "    beta = pm.Exponential(\"beta\", scale=1, dims=\"day_type\")\n",
    "    \n",
    "    is_weekend = (np.arange(7) >= 5).astype(int)\n",
    "    mu = pm.Gamma(\"mu\", alpha=alpha[is_weekend], beta=beta[is_weekend], dims=\"weekday\")\n",
    "    phi = pm.Exponential(\"phi\", scale=1)\n",
    "    \n",
    "    # c = pm.Poisson(\"c\", lmda[weekday], observed=np.array(filtered_data[\"count_outgoing\"]), dims=\"obs_id\")\n",
    "    c = pm.NegativeBinomial(\"c\", alpha=phi, mu=mu[weekday_idx], observed=np.array(filtered_data[\"count_outgoing\"]), dims=\"obs_id\")\n",
    "    \n",
    "    # m_1.debug()\n",
    "    trace = pm.sample_prior_predictive(1000)\n",
    "    trace.extend(pm.sample(3000, tune=3000))\n",
    "    trace.extend(pm.sample_posterior_predictive(trace))\n",
    "    "
   ]
  },
  {
   "cell_type": "markdown",
   "id": "fe1aa8a8-05ad-4096-af69-857e9f83ff9e",
   "metadata": {},
   "source": [
    "## Trace results"
   ]
  },
  {
   "cell_type": "code",
   "execution_count": null,
   "id": "caf408b1-f034-4f4d-9c62-8737950f520c",
   "metadata": {
    "tags": []
   },
   "outputs": [],
   "source": [
    "az.plot_trace(trace, var_names=[\"phi\", \"mu\", \"alpha\", \"beta\"], legend=True);\n",
    "plt.tight_layout()"
   ]
  },
  {
   "cell_type": "code",
   "execution_count": null,
   "id": "d63314ac-a8d7-4c37-9d3a-31e56469440a",
   "metadata": {
    "tags": []
   },
   "outputs": [],
   "source": [
    "az.plot_forest(trace, var_names=[\"mu\"])"
   ]
  },
  {
   "cell_type": "code",
   "execution_count": null,
   "id": "fddf03e6-7a5a-4e3a-9bd9-fb7b14c865ea",
   "metadata": {
    "tags": []
   },
   "outputs": [],
   "source": [
    "az.plot_forest(trace, var_names=[\"phi\", \"alpha\", \"beta\"])"
   ]
  },
  {
   "cell_type": "markdown",
   "id": "8897e37d-331a-462a-9f26-3a1ef8fd7199",
   "metadata": {},
   "source": [
    "## Visualise posterior predictions against observed"
   ]
  },
  {
   "cell_type": "code",
   "execution_count": null,
   "id": "e0260a7d-09c1-45e8-9c17-dbd74ca96224",
   "metadata": {
    "tags": []
   },
   "outputs": [],
   "source": [
    "compare_df = (\n",
    "    filtered_data.with_columns(\n",
    "        pl.Series(\n",
    "            name=\"post_preds\", \n",
    "            values=az.extract(trace.posterior_predictive)[\"c\"][:,0].to_numpy())\n",
    "    ).melt(\n",
    "        id_vars=\"weekday\", \n",
    "        value_vars=[\"count_outgoing\", \"post_preds\"]\n",
    "    ).with_columns(\n",
    "        pl.col(\"variable\").map_dict(\n",
    "            {\"count_outgoing\": \"Observation\", \"post_preds\": \"Posterior Prediction\"}\n",
    "        )\n",
    "    )\n",
    ")\n",
    "compare_df.columns = [\"Weekday\", \"Type\", \"Count\"]"
   ]
  },
  {
   "cell_type": "code",
   "execution_count": null,
   "id": "e09ecc7c-c7af-41a4-a42a-416e127a9524",
   "metadata": {
    "tags": []
   },
   "outputs": [],
   "source": [
    "sns.catplot(\n",
    "    compare_df.with_columns(\n",
    "        pl.col(\"Weekday\").map_dict({0: \"Mon\", 1: \"Tue\", 2: \"Wed\", 3: \"Thu\", 4: \"Fri\", 5: \"Sat\", 6: \"Sun\"}),\n",
    "        # pl.col(\"Count\").cast(float),\n",
    "        # (pl.col(\"Count\") == 0).alias(\"Count = 0\")\n",
    "    ).to_pandas(), \n",
    "    x=\"Weekday\", \n",
    "    y=\"Count\", \n",
    "    hue=\"Type\", \n",
    "    s=15, \n",
    "    kind=\"swarm\", \n",
    "    order=\"Mon,Tue,Wed,Thu,Fri,Sat,Sun\".split(\",\")\n",
    ")\n",
    "plt.ylabel(\"Count\")\n",
    "plt.xlabel(\"Weekday\")\n",
    "plt.ylim(-1,300)\n",
    "plt.title(\"Observed vs Posterior: Outgoing bike count per day-of-week, Thorndon Quay, 2022\", pad=20);"
   ]
  },
  {
   "cell_type": "code",
   "execution_count": null,
   "id": "1e43c196-bcd6-47e3-834b-64de4635e28e",
   "metadata": {},
   "outputs": [],
   "source": []
  }
 ],
 "metadata": {
  "kernelspec": {
   "display_name": "Python 3 (ipykernel)",
   "language": "python",
   "name": "python3"
  },
  "language_info": {
   "codemirror_mode": {
    "name": "ipython",
    "version": 3
   },
   "file_extension": ".py",
   "mimetype": "text/x-python",
   "name": "python",
   "nbconvert_exporter": "python",
   "pygments_lexer": "ipython3",
   "version": "3.10.4"
  }
 },
 "nbformat": 4,
 "nbformat_minor": 5
}
