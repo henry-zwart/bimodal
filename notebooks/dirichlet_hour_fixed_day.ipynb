{
 "cells": [
  {
   "cell_type": "markdown",
   "id": "50b1158c-6b80-49ad-beec-b6a8b52ac9b5",
   "metadata": {},
   "source": [
    "# Ignore daily correlation. Focus on single-directional travel, and model dispersion of bikes across hours.\n",
    "\n",
    "1. Given the day of the week, how many bikes do I expect to see?\n",
    "2. How would these bikes be distributed over the course of the day?"
   ]
  },
  {
   "cell_type": "markdown",
   "id": "69b54c81-d231-4667-8d4e-d5b6d2477605",
   "metadata": {},
   "source": [
    "## Findings\n",
    "\n",
    "- Conjugate priors help a lot\n",
    "- Sampling daily count then hourly from that works\n",
    "- Checked correlation between 8am and 9am and found it is much better correlated than when we modelled with gaussian processes. Though real data was still much more correlated.\n",
    "\n",
    "## Next steps\n",
    "\n",
    "- Real data \n",
    "- Further simulation with weather data"
   ]
  },
  {
   "cell_type": "markdown",
   "id": "af953a3e-e786-413f-8e6f-b8cf4c6815d3",
   "metadata": {},
   "source": [
    "## Weather factors\n",
    "\n",
    "We want to allow the daily count to change w.r.t. the weather independently of the hourly patterns. For example, the weather may reduce the total number of bikes but not change when people bike (cold temperature), or it may change the hourly distribution with limited impact on daily counts (a very short period of heavy rain).\n",
    "\n",
    "I also suspect that the morning and evening patterns could differ. For example, if the weather turns bad at midday, people may cycle in affected but not cycle home. But if the weather starts bad, people may leave their bikes at home.\n",
    "\n",
    "- Daily count\n",
    "    - Gamma regression (log link), linear model of weather factors\n",
    "    - Include cross-effects, e.g. windy + rainy, rainy + cold\n",
    "    - Include \"weather in the morning\", since this may be a good predictor of daily travel\n",
    "    - Don't worry about whole-day weather. Can likely ignore anything outside of the 6am-7pm range\n",
    "- Hourly count\n",
    "    - We have our dirichlet level-one distribution from which we sample level-two distributions for each day separately\n",
    "    - Add intermediary step which modifies the level-one distribution in line with the weather effects of the day\n",
    "        - Linear model of weather data produces per-hour parameters (24) for each day\n",
    "        - (Send these parameters through a logit link)?\n",
    "        - Multiply the level-one distribution by the parameters, and rescale so sum = 1\n",
    "        - Treat the result as the new level-one distribution for that day"
   ]
  },
  {
   "cell_type": "code",
   "execution_count": null,
   "id": "fb00a1ac-29a1-4793-94bb-7f8b99672b35",
   "metadata": {
    "tags": []
   },
   "outputs": [],
   "source": [
    "import datetime\n",
    "\n",
    "import matplotlib.pyplot as plt\n",
    "import seaborn as sns\n",
    "\n",
    "import polars as pl\n",
    "import numpy as np\n",
    "import scipy\n",
    "\n",
    "import pymc as pm\n",
    "import arviz as az\n",
    "\n",
    "import warnings\n",
    "\n",
    "sns.set(rc={'figure.figsize':(17,11)})\n",
    "\n",
    "warnings.filterwarnings(\"ignore\")"
   ]
  },
  {
   "cell_type": "markdown",
   "id": "25a3eb41-e5d4-4cb3-85d5-1c5511cd3a38",
   "metadata": {},
   "source": [
    "## Simulate data\n",
    "\n",
    "1. Number of bikes per day\n",
    "2. Distribution over the course of the day\n",
    "\n",
    "Focusing on weekdays for now, assuming same distribution each day"
   ]
  },
  {
   "cell_type": "code",
   "execution_count": null,
   "id": "f742f57c-610a-4f27-ad77-098b61318cb9",
   "metadata": {
    "tags": []
   },
   "outputs": [],
   "source": [
    "days = 1000\n",
    "\n",
    "hours = [str(i) for i in range(24)]\n",
    "day_ids = np.arange(days)\n",
    "\n",
    "# day-level\n",
    "alpha_daily = 8\n",
    "mu_daily = 300\n",
    "\n",
    "# hour-level\n",
    "daily_dist = np.array([1, 1, 0.5, 0.5, 0.5, 2, 8, 26, 30, 28, 18, 11, 12, 8, 6, 6, 12, 16, 15, 8, 4, 2, 1, 1])\n",
    "daily_dist = daily_dist / daily_dist.sum()\n",
    "conc = 300\n",
    "\n",
    "# sample\n",
    "daily_count = pm.NegativeBinomial.dist(alpha=alpha_daily, mu=mu_daily, size=days).eval()\n",
    "day_dist_samples = pm.Dirichlet.dist(conc * daily_dist, size=days).eval()\n",
    "observed_counts = pm.Multinomial.dist(n=daily_count, p=day_dist_samples).eval()\n",
    "\n"
   ]
  },
  {
   "cell_type": "code",
   "execution_count": null,
   "id": "86e1769f-f305-4e1a-8b11-fc09ad249f4c",
   "metadata": {
    "tags": []
   },
   "outputs": [],
   "source": [
    "mean_count = observed_counts.mean(axis=0)\n",
    "std_count = observed_counts.std(axis=0)\n",
    "\n",
    "plt.plot(np.arange(24), mean_count, label=\"Mean\")\n",
    "plt.fill_between(np.arange(24), (mean_count - std_count).clip(min=0), mean_count + std_count, alpha=0.3, label=\"1 Stdev\")\n",
    "plt.title(\"Simulated hourly count\")\n",
    "plt.legend()\n",
    "plt.show()"
   ]
  },
  {
   "cell_type": "markdown",
   "id": "2b03f215-27f5-4852-bdd2-2641afe03bdb",
   "metadata": {},
   "source": [
    "## Model simulated data (just daily counts)"
   ]
  },
  {
   "cell_type": "markdown",
   "id": "f8df7050-3605-47e3-b9a7-c286f33d9536",
   "metadata": {},
   "source": [
    "Submodel in later model, attempts to model the daily total count as sampled from a negative binomial/gamma poisson distribution.\n",
    "\n",
    "Priors are normally distributed with a log link, chosen to reflect range of believable values."
   ]
  },
  {
   "cell_type": "code",
   "execution_count": null,
   "id": "77b5f8dc-00ba-4636-bbfc-2755e44fd9de",
   "metadata": {
    "tags": []
   },
   "outputs": [],
   "source": [
    "coords = {\"days\": day_ids}\n",
    "\n",
    "with pm.Model(coords=coords) as m_daily:\n",
    "    log_mu_d = pm.Normal(\"log_mu_d\", mu=5.65, sigma=0.525)\n",
    "    mu_d = pm.Deterministic(\"mu_d\", np.exp(log_mu_d))\n",
    "    \n",
    "    log_alpha_d = pm.Normal(\"log_alpha_d\", 1.875, 0.35)\n",
    "    alpha_d = pm.Deterministic(\"alpha_d\", np.exp(log_alpha_d))\n",
    "    \n",
    "    day_count = pm.NegativeBinomial(\"day_count\", alpha=alpha_d, mu=mu_d, observed=observed_counts.sum(axis=1))\n",
    "    \n",
    "    trace_daily = pm.sample_prior_predictive(1000)\n",
    "    trace_daily.extend(pm.sample(5000, tune=3000))\n",
    "    trace_daily.extend(pm.sample_posterior_predictive(trace_daily))"
   ]
  },
  {
   "cell_type": "code",
   "execution_count": null,
   "id": "1adcf6c0-7f1e-4a24-9d0e-3c3a152be097",
   "metadata": {},
   "outputs": [],
   "source": [
    "pm.model_to_graphviz(m_daily)"
   ]
  },
  {
   "cell_type": "code",
   "execution_count": null,
   "id": "cc315f6e-20ad-4bf6-a98d-41ea5c750236",
   "metadata": {
    "tags": []
   },
   "outputs": [],
   "source": [
    "trace_daily"
   ]
  },
  {
   "cell_type": "markdown",
   "id": "e4e07762-109e-4d73-a65b-5bd672186112",
   "metadata": {},
   "source": [
    "**Observed (0) vs prior predictive (1)**"
   ]
  },
  {
   "cell_type": "code",
   "execution_count": null,
   "id": "a5751cc5-d1ec-4241-a3f5-0a1ea0dd0808",
   "metadata": {
    "tags": []
   },
   "outputs": [],
   "source": [
    "sns.displot([daily_count, trace_daily.prior_predictive.day_count.to_numpy()[0,:,0]]);"
   ]
  },
  {
   "cell_type": "markdown",
   "id": "a98f012e-d9cd-4a56-9e29-7ae6b740a97a",
   "metadata": {},
   "source": [
    "## Viewing trace results"
   ]
  },
  {
   "cell_type": "code",
   "execution_count": null,
   "id": "5a28ca3a-6a0c-4019-8987-f6358db69c8a",
   "metadata": {
    "tags": []
   },
   "outputs": [],
   "source": [
    "az.summary(trace_daily)"
   ]
  },
  {
   "cell_type": "code",
   "execution_count": null,
   "id": "a2f18986-95c8-4d5d-97f4-2f4b03e7913e",
   "metadata": {
    "tags": []
   },
   "outputs": [],
   "source": [
    "az.plot_trace(trace_daily)\n",
    "plt.tight_layout()"
   ]
  },
  {
   "cell_type": "markdown",
   "id": "a9fbdae5-0643-411e-a8e6-c7faa187b3df",
   "metadata": {},
   "source": [
    "**Observed (0) vs posterior predictive (1)**"
   ]
  },
  {
   "cell_type": "code",
   "execution_count": null,
   "id": "c9de56dd-34cf-466f-a6cd-6bfdf9951088",
   "metadata": {
    "tags": []
   },
   "outputs": [],
   "source": [
    "sns.displot(np.array([daily_count, trace_daily.posterior_predictive.day_count.to_numpy()[0,:days,0]]).T);"
   ]
  },
  {
   "cell_type": "markdown",
   "id": "8f1be05b-5c17-4279-8cdd-ae7a7e63ed83",
   "metadata": {},
   "source": [
    "## Model simulated data (with hourly counts)\n",
    "\n",
    "Swaps daily count submodel parameter priors conjugate priors to fix sampling issues. Defines multi-level dirichlet distribution over hours of day, sampling a unique hourly distribution for each observed day. "
   ]
  },
  {
   "cell_type": "code",
   "execution_count": null,
   "id": "6df1f20a-d643-4609-a774-68e416a09f74",
   "metadata": {
    "tags": []
   },
   "outputs": [],
   "source": [
    "coords = {\"hour\": hours}\n",
    "\n",
    "with pm.Model(coords=coords) as m_hourly:\n",
    "    observations = pm.MutableData(\"observations\", observed_counts, dims=(\"day\", \"hour\"))\n",
    "    \n",
    "    n_d = pm.Gamma(\"n_d\", alpha=20, beta=0.05)\n",
    "    p_d = pm.Beta(\"p_d\", alpha=10, beta=10)\n",
    "    day_count = pm.NegativeBinomial(\"day_count\", n=n_d, p=p_d, observed=observations.sum(axis=1), dims=\"day\")\n",
    "    \n",
    "    # Sample hourly counts from daily\n",
    "    frac = pm.Dirichlet(\"frac\", a=np.ones(24), dims=\"hour\")\n",
    "    conc = pm.LogNormal(\"conc\", mu=1, sigma=1)\n",
    "    hour_count = pm.DirichletMultinomial(\"hour_count\", n=day_count, a=(frac*conc), observed=observations, dims=(\"day\", \"hour\"))\n",
    "    \n",
    "    trace_hourly = pm.sample_prior_predictive(1000)\n",
    "    trace_hourly.extend(pm.sample(5000, tune=3000))\n",
    "    trace_hourly.extend(pm.sample_posterior_predictive(trace_hourly))"
   ]
  },
  {
   "cell_type": "code",
   "execution_count": null,
   "id": "1477d7c5-b5ec-4739-a4b3-326ea64a9707",
   "metadata": {
    "tags": []
   },
   "outputs": [],
   "source": [
    "pm.model_to_graphviz(m_hourly)"
   ]
  },
  {
   "cell_type": "markdown",
   "id": "7b2f8496-6efd-411d-a40e-68dc5d4abda5",
   "metadata": {},
   "source": [
    "## Model 2 trace"
   ]
  },
  {
   "cell_type": "code",
   "execution_count": null,
   "id": "3f077dac-e904-407e-84b3-707d6952d80c",
   "metadata": {
    "tags": []
   },
   "outputs": [],
   "source": [
    "trace_hourly"
   ]
  },
  {
   "cell_type": "code",
   "execution_count": null,
   "id": "7f09ad5f-f8af-4c58-9683-67fe8faaf75d",
   "metadata": {
    "tags": []
   },
   "outputs": [],
   "source": [
    "az.plot_trace(trace_hourly)\n",
    "plt.tight_layout()"
   ]
  },
  {
   "cell_type": "code",
   "execution_count": null,
   "id": "d15f268b-d761-4e1e-be7e-dc50f91fc233",
   "metadata": {
    "tags": []
   },
   "outputs": [],
   "source": [
    "az.plot_trace(trace_hourly, compact=False, var_names=\"frac\")\n",
    "plt.tight_layout()"
   ]
  },
  {
   "cell_type": "code",
   "execution_count": null,
   "id": "968ab687-b637-424a-b380-ef225090823b",
   "metadata": {
    "tags": []
   },
   "outputs": [],
   "source": [
    "az.plot_forest(trace_hourly, var_names=[\"frac\"])\n",
    "for j, (y_tick, frac_j) in enumerate(zip(plt.gca().get_yticks(), reversed(daily_dist))):\n",
    "    plt.vlines(frac_j, ymin=y_tick - 0.45, ymax=y_tick + 0.45, color=\"black\", linestyle=\"--\")"
   ]
  },
  {
   "cell_type": "code",
   "execution_count": null,
   "id": "832d6674-9aa5-446f-841c-eee6fbcc76c5",
   "metadata": {},
   "outputs": [],
   "source": [
    "cmap = plt.get_cmap(\"tab10\")\n",
    "\n",
    "fig, axs = plt.subplots(24, 1, sharex=True, sharey=True, figsize=(10, 30))\n",
    "for j, ax in enumerate(axs):\n",
    "    c = cmap(j)\n",
    "    ax.hist(\n",
    "        trace_hourly.posterior_predictive.hour_count.sel(hour=hours[j]).values.flatten(),\n",
    "        bins=np.arange(75),\n",
    "        histtype=\"step\",\n",
    "        color=c,\n",
    "        density=True,\n",
    "        label=\"Post.Pred.\",\n",
    "    )\n",
    "    ax.hist(\n",
    "        (trace_hourly.observed_data.hour_count.sel(hour=hours[j]).values.flatten()),\n",
    "        bins=np.arange(75),\n",
    "        color=c,\n",
    "        density=True,\n",
    "        alpha=0.25,\n",
    "        label=\"Observed\",\n",
    "    )\n",
    "    ax.annotate(\n",
    "        f\"{hours[j]}\",\n",
    "        xy=(0.96, 0.9),\n",
    "        xycoords=\"axes fraction\",\n",
    "        ha=\"right\",\n",
    "        va=\"top\",\n",
    "        color=c,\n",
    "    )\n",
    "\n",
    "axs[-1].legend(loc=\"upper center\", fontsize=10)\n",
    "axs[-1].set_xlabel(\"Count\")\n",
    "axs[-1].set_yticks([0, 0.5, 1.0])\n",
    "axs[-1].set_ylim(0, 0.6)\n",
    "plt.tight_layout();"
   ]
  },
  {
   "cell_type": "markdown",
   "id": "8339b43b-b1f2-49a3-87fb-64c523115785",
   "metadata": {},
   "source": [
    "## Generating samples for real data\n",
    "\n",
    "Data taken from 2022 Thorndon Quay outgoing count on weekdays (Monday - Friday). \n",
    "\n",
    "Results show good ability to fit the general distribution, but poor sampling in lower extreme likely due to absence of predictors in model (e.g. weather effects). "
   ]
  },
  {
   "cell_type": "markdown",
   "id": "c14faa81-59fc-4bbe-98bf-8127e19b020b",
   "metadata": {},
   "source": [
    "**Load data**"
   ]
  },
  {
   "cell_type": "code",
   "execution_count": null,
   "id": "7ea4c1cf-0ead-415b-9eaf-88e09e36ed92",
   "metadata": {
    "tags": []
   },
   "outputs": [],
   "source": [
    "real_data_df = (\n",
    "    pl.read_parquet(\n",
    "        \"../data/counter_data.parquet\"\n",
    "    ).with_columns(\n",
    "        pl.col(\"weekday\") - 1,\n",
    "        pl.col(\"count_outgoing\").fill_null(0),\n",
    "        (pl.col(\"record_time\").dt.date() - datetime.date(year=2022, month=1, day=1)).dt.days().alias(\"day_in_year\")\n",
    "    ).filter(\n",
    "        (pl.col(\"year\") == 2022) &\n",
    "        (pl.col(\"site_name\") == \"Thorndon Quay\") &\n",
    "        (pl.col(\"weekday\") < 5)\n",
    "    )\n",
    ")\n"
   ]
  },
  {
   "cell_type": "code",
   "execution_count": null,
   "id": "d8a7d741-57ec-49aa-b6d5-47644413a43a",
   "metadata": {
    "tags": []
   },
   "outputs": [],
   "source": [
    "real_observations = []\n",
    "\n",
    "for i,group in real_data_df.group_by(pl.col(\"day_in_year\"), maintain_order=True):\n",
    "    real_observations.append(group.select(pl.col(\"count_outgoing\")).to_numpy().flatten())\n",
    "    \n",
    "real_observations = np.array(real_observations)"
   ]
  },
  {
   "cell_type": "code",
   "execution_count": null,
   "id": "4b70dd1a-b27e-46d3-bf5a-590f75f736bc",
   "metadata": {
    "tags": []
   },
   "outputs": [],
   "source": [
    "with m_hourly:\n",
    "    pm.set_data(\n",
    "        {\"observations\": real_observations}\n",
    "    )\n",
    "    real_trace = pm.sample(5000, tune=3000)\n",
    "    real_trace.extend(pm.sample_posterior_predictive(real_trace))"
   ]
  },
  {
   "cell_type": "code",
   "execution_count": null,
   "id": "b365aab0-0bfe-454a-85fd-12d27b62be4b",
   "metadata": {
    "tags": []
   },
   "outputs": [],
   "source": [
    "az.plot_trace(real_trace)\n",
    "plt.tight_layout()"
   ]
  },
  {
   "cell_type": "markdown",
   "id": "65450235-a814-463e-bf05-a176c04e4c64",
   "metadata": {},
   "source": [
    "## Inspecting similarity of 8am/9am correlation with observed\n",
    "\n",
    "This was very poor in the GP model, where there was no significant correlation between the two. In this model the correlation is apparent and is visually similar to the observed.\n",
    "\n",
    "Note that the observation values go right down to near-zero, but posterior predictions don't. This is likely due to effects of weather, holidays, and sensor error which are not currently modelled."
   ]
  },
  {
   "cell_type": "code",
   "execution_count": null,
   "id": "4bd9e130-ec86-4079-9f64-8cf9b9494cd6",
   "metadata": {
    "tags": []
   },
   "outputs": [],
   "source": [
    "plt.scatter(\n",
    "    real_trace.posterior_predictive.hour_count.sel(hour=\"8\").to_numpy()[0,:260,0],\n",
    "    real_trace.posterior_predictive.hour_count.sel(hour=\"9\").to_numpy()[0,:260,0],\n",
    "    s=100,\n",
    "    alpha=0.8,\n",
    "    label=\"Posterior prediction\",\n",
    ")\n",
    "plt.scatter(\n",
    "    real_trace.observed_data.hour_count.sel(hour=\"8\").to_numpy(),\n",
    "    real_trace.observed_data.hour_count.sel(hour=\"9\").to_numpy(),\n",
    "    s=100,\n",
    "    alpha=0.8,\n",
    "    label=\"Observed\",\n",
    ")\n",
    "\n",
    "plt.xlabel(\"Count at 8am\")\n",
    "plt.ylabel(\"Count at 9am\")\n",
    "\n",
    "plt.xlim(0,225)\n",
    "plt.ylim(0,250)\n",
    "plt.legend()\n",
    "plt.title(\"8am vs 9am counts, observations and posterior predictions\");"
   ]
  },
  {
   "cell_type": "code",
   "execution_count": null,
   "id": "f5105495-a058-478c-ba04-f9615a11520b",
   "metadata": {},
   "outputs": [],
   "source": []
  }
 ],
 "metadata": {
  "kernelspec": {
   "display_name": "Python 3 (ipykernel)",
   "language": "python",
   "name": "python3"
  },
  "language_info": {
   "codemirror_mode": {
    "name": "ipython",
    "version": 3
   },
   "file_extension": ".py",
   "mimetype": "text/x-python",
   "name": "python",
   "nbconvert_exporter": "python",
   "pygments_lexer": "ipython3",
   "version": "3.10.4"
  }
 },
 "nbformat": 4,
 "nbformat_minor": 5
}
