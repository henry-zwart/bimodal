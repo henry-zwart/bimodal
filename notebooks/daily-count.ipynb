{
 "cells": [
  {
   "cell_type": "markdown",
   "id": "3d533f16-8135-42e4-97af-33cbfc3601a6",
   "metadata": {},
   "source": [
    "**Conditional on weekday/weekend, how does the distribution of numbers change over the years?**\n",
    "\n",
    "How do we model the bike count given:\n",
    "- Day of the week\n",
    "- Month of the year\n",
    "- Year\n",
    "- Hourly counts\n",
    "\n",
    "Monthly count is the sum of the sampled daily counts, each conditional on the month and whether the day is a weekday or a weekend.\n",
    "\n",
    "Either:\n",
    "- Daily count is the sum of the sampled hourly counts, whether the hourly counts are conditional on the month and whether the day is a weekday or a weekend, or\n",
    "- Daily count is the sum of the hourly counts, conditional on the proportion of null count hours\n",
    "\n",
    "\n",
    "Determine whether there's a general trend amongst (for example) Mondays in May at 8am. If there is, we'd likely see that there's a general grouping around a non-zero figure, and then a cluster of zeros where the null values are.\n",
    "\n",
    "- For Monday 7am in May, there was a big difference between pre-2022 and 2023. Jumps from 0-10 to 35-45.\n",
    "\n",
    "So perhaps we could model per-hour counts at first. I suspect this would be a poisson distribution. We may then incorporate this into a hierarchical model, using the per-hour counts to determine the daily -> monthly models.\n",
    "\n",
    "Per-hour counts depend on:\n",
    "- Year\n",
    "- Time of year\n",
    "- Day of week"
   ]
  },
  {
   "cell_type": "markdown",
   "id": "e057688e-c031-467c-972b-2167eecf8599",
   "metadata": {},
   "source": [
    "Split quite broadly:\n",
    "- Weekday vs. weekend\n",
    "- Month\n",
    "- Time of day (hour)\n",
    "- Year\n",
    "\n",
    "The per-hour count then depends on:\n",
    "- The hour\n",
    "- Whether or not it's the weekend\n",
    "- The month\n",
    "- The year\n",
    "\n",
    "Model this, ignoring any null rows. "
   ]
  },
  {
   "cell_type": "markdown",
   "id": "e1d2d0aa-89b9-47ea-b306-b20a027e4373",
   "metadata": {},
   "source": [
    "**Model plan**\n",
    "\n",
    "Hourly count sampled from Poisson dist around lambda.\n",
    "\n",
    "log(lambda) = mx\n",
    "\n",
    "m ~ Normal or something. This is the \"at best conditions\" count (across all hours/months/weather)\n",
    "\n",
    "We may make a linear model in itself, conditional on the current year. This could include a step factor for infrastructure improvements.\n",
    "\n",
    "log(x) = a + b. x should be between 0 and 1.\n",
    "\n",
    "a is the \"time of day factor\". Depends on the time of day. Should be high at peak hours.\n",
    "\n",
    "b is the \"time of year factor\". Month or season. High at peak months, low at low months.\n",
    "\n",
    "---\n",
    "\n",
    "Must also include the weekday/weekend variable. This affects m and a. May also affect b."
   ]
  },
  {
   "cell_type": "code",
   "execution_count": 1,
   "id": "081eecc6-a0c7-46c1-9022-4deefd274529",
   "metadata": {
    "tags": []
   },
   "outputs": [
    {
     "data": {
      "text/plain": [
       "3456"
      ]
     },
     "execution_count": 1,
     "metadata": {},
     "output_type": "execute_result"
    }
   ],
   "source": [
    "24 * 2 * 12 * 6"
   ]
  },
  {
   "cell_type": "code",
   "execution_count": 2,
   "id": "aa57f420-c935-4b7d-ac8f-d6c52029314f",
   "metadata": {
    "tags": []
   },
   "outputs": [],
   "source": [
    "import warnings\n",
    "warnings.filterwarnings(\"ignore\", \"is_categorical_dtype\")\n",
    "warnings.filterwarnings(\"ignore\", \"use_inf_as_na\")"
   ]
  },
  {
   "cell_type": "code",
   "execution_count": 3,
   "id": "fedce787-96c9-4233-b220-eb07d6c6b962",
   "metadata": {
    "tags": []
   },
   "outputs": [
    {
     "ename": "ImportError",
     "evalue": "cannot import name 'YEAR_FILES' from 'bimodal.cli' (/Users/henry/Documents/personal/bimodal/python/src/bimodal/cli.py)",
     "output_type": "error",
     "traceback": [
      "\u001b[0;31m---------------------------------------------------------------------------\u001b[0m",
      "\u001b[0;31mImportError\u001b[0m                               Traceback (most recent call last)",
      "Cell \u001b[0;32mIn[3], line 8\u001b[0m\n\u001b[1;32m      5\u001b[0m \u001b[38;5;28;01mimport\u001b[39;00m \u001b[38;5;21;01mseaborn\u001b[39;00m \u001b[38;5;28;01mas\u001b[39;00m \u001b[38;5;21;01msns\u001b[39;00m\n\u001b[1;32m      6\u001b[0m \u001b[38;5;28;01mimport\u001b[39;00m \u001b[38;5;21;01mdatetime\u001b[39;00m\n\u001b[0;32m----> 8\u001b[0m \u001b[38;5;28;01mfrom\u001b[39;00m \u001b[38;5;21;01mbimodal\u001b[39;00m\u001b[38;5;21;01m.\u001b[39;00m\u001b[38;5;21;01mcli\u001b[39;00m \u001b[38;5;28;01mimport\u001b[39;00m YEAR_FILES, load_and_clean_raw\n",
      "\u001b[0;31mImportError\u001b[0m: cannot import name 'YEAR_FILES' from 'bimodal.cli' (/Users/henry/Documents/personal/bimodal/python/src/bimodal/cli.py)"
     ]
    }
   ],
   "source": [
    "import polars as pl\n",
    "import sqlite3\n",
    "from pathlib import Path\n",
    "import matplotlib.pyplot as plt\n",
    "import seaborn as sns\n",
    "import datetime\n",
    "\n",
    "from bimodal.cli import YEAR_FILES, load_and_clean_raw"
   ]
  },
  {
   "cell_type": "code",
   "execution_count": null,
   "id": "e95a491d-9da6-406a-860b-f282de0ba324",
   "metadata": {
    "tags": []
   },
   "outputs": [],
   "source": [
    "RAW_DATA_PATH = Path(\"../data/raw/counter/\")"
   ]
  },
  {
   "cell_type": "code",
   "execution_count": null,
   "id": "654c6aef-ff55-41ea-aa40-edf4fd3ed5a8",
   "metadata": {
    "tags": []
   },
   "outputs": [],
   "source": [
    "data = load_and_clean_raw([RAW_DATA_PATH / yf for yf in YEAR_FILES.values()])"
   ]
  },
  {
   "cell_type": "code",
   "execution_count": null,
   "id": "9c075e07-a7c5-403a-8f67-4b679126040b",
   "metadata": {
    "tags": []
   },
   "outputs": [],
   "source": [
    "x = (\n",
    "    data.with_columns(\n",
    "        pl.col(\"record_time\").str.to_datetime() + datetime.timedelta(hours=1)\n",
    "    )\n",
    "    # .filter(\n",
    "    #     (pl.col(\"site_name\") == \"Basin Reserve\") &\n",
    "    #     # (pl.col(\"record_time\").dt.month() > 5) &\n",
    "    #     (pl.col(\"record_time\").dt.month() < 9) &\n",
    "    #     # (pl.col(\"record_time\").dt.weekday() == 1) &\n",
    "    #     (pl.col(\"record_time\").dt.hour() == 10)\n",
    "    # )\n",
    "    .with_columns(\n",
    "        pl.col(\"record_time\").dt.year().alias(\"year\"),\n",
    "        pl.col(\"record_time\").dt.month().alias(\"month\"),\n",
    "        pl.col(\"record_time\").dt.weekday().alias(\"weekday\")\n",
    "    )\n",
    ")"
   ]
  },
  {
   "cell_type": "code",
   "execution_count": null,
   "id": "cc77e985-aa0f-4011-92ac-c743a93597fd",
   "metadata": {
    "tags": []
   },
   "outputs": [],
   "source": [
    "x.filter(\n",
    "    (pl.col(\"count_incoming\").is_not_null()) & \n",
    "    (pl.col(\"count_outgoing\").is_not_null())\n",
    ").sort(by=pl.col(\"record_time\"))"
   ]
  },
  {
   "cell_type": "code",
   "execution_count": null,
   "id": "2867c50a-f2b1-4438-99a9-00165d602723",
   "metadata": {
    "tags": []
   },
   "outputs": [],
   "source": [
    "x.filter(pl.col(\"record_time\").dt.year() == 2022)"
   ]
  },
  {
   "cell_type": "code",
   "execution_count": null,
   "id": "b48ab9cb-2e91-478c-805f-5869577b150e",
   "metadata": {
    "tags": []
   },
   "outputs": [],
   "source": [
    "sns.set_theme()\n",
    "# sns.set(rc={'figure.figsize':(10,6)})\n",
    "\n",
    "sns.catplot(\n",
    "    x.to_pandas(),\n",
    "    x=\"year\",\n",
    "    y=\"count_incoming\",\n",
    "    row=\"weekday\",\n",
    "    col=\"month\",\n",
    "    # kind=\"box\",\n",
    "    height=4,\n",
    "    aspect=2,\n",
    ");"
   ]
  },
  {
   "cell_type": "code",
   "execution_count": null,
   "id": "9b21d4b6-3ebf-4d5a-933f-08a25120f297",
   "metadata": {
    "tags": []
   },
   "outputs": [],
   "source": [
    "x = (\n",
    "    data.with_columns(\n",
    "        pl.col(\"record_time\").str.to_datetime()\n",
    "    )\n",
    "    .filter((pl.col(\"site_name\") == \"Adelaide Road\") & (pl.col(\"record_time\").dt.year() > 2018))\n",
    "    .sort(\"record_time\")\n",
    "    .groupby_dynamic(\"record_time\", every=\"1w\")\n",
    "    .agg(\n",
    "        pl.col(\"count_incoming\").sum(),\n",
    "        pl.col(\"count_outgoing\").sum(),\n",
    "    )\n",
    "    .with_columns(\n",
    "        pl.col(\"record_time\").dt.year().alias(\"year\"),\n",
    "        pl.col(\"record_time\").dt.week().alias(\"week\"),\n",
    "        # pl.col(\"record_time\").dt.day().alias(\"day\"),\n",
    "        # pl.col(\"record_time\").dt.ordinal_day().alias(\"ordinal_day\"),\n",
    "        (\n",
    "            pl.col(\"record_time\")\n",
    "            .dt\n",
    "            .month()\n",
    "            .map_dict(\n",
    "                {\n",
    "                    1: \"Jan\",\n",
    "                    2: \"Feb\",\n",
    "                    3: \"Mar\",\n",
    "                    4: \"Apr\",\n",
    "                    5: \"May\",\n",
    "                    6: \"Jun\",\n",
    "                    7: \"Jul\",\n",
    "                    8: \"Aug\",\n",
    "                    9: \"Sep\",\n",
    "                    10: \"Oct\",\n",
    "                    11: \"Nov\",\n",
    "                    12: \"Dec\",\n",
    "                },\n",
    "                return_dtype=str\n",
    "            )\n",
    "            .alias(\"month\")\n",
    "        ),\n",
    "        (\n",
    "            pl.col(\"record_time\").dt.weekday() < 6\n",
    "        ).alias(\"weekday\")\n",
    "    )\n",
    ")"
   ]
  },
  {
   "cell_type": "code",
   "execution_count": null,
   "id": "388efe6b-5f28-4fe0-ae76-c17992a2396f",
   "metadata": {},
   "outputs": [],
   "source": []
  },
  {
   "cell_type": "code",
   "execution_count": null,
   "id": "4853082d-d8ff-4e53-9522-8411c3e042aa",
   "metadata": {
    "tags": []
   },
   "outputs": [],
   "source": [
    "data.with_columns(\n",
    "    pl.col(\"record_time\").str.to_datetime()\n",
    ").filter(\n",
    "    (pl.col(\"record_time\").dt.year() == 2021) &\n",
    "    (pl.col(\"record_time\").dt.month() == 8) &\n",
    "    (pl.col(\"site_name\") == \"Basin Reserve\")\n",
    ")"
   ]
  },
  {
   "cell_type": "code",
   "execution_count": null,
   "id": "9bd377a6-6354-4d45-be95-a67037f49e31",
   "metadata": {
    "tags": []
   },
   "outputs": [],
   "source": [
    "c = sns.color_palette(\"crest\", n_colors=6)\n",
    "type(c)"
   ]
  },
  {
   "cell_type": "code",
   "execution_count": null,
   "id": "eb9de6f8-c414-46f2-b4e3-a27190437618",
   "metadata": {
    "collapsed": true,
    "jupyter": {
     "outputs_hidden": true
    },
    "tags": []
   },
   "outputs": [],
   "source": [
    "sns.displot(\n",
    "    x.filter(\n",
    "        (pl.col(\"month\") == \"Aug\") &\n",
    "        (pl.col(\"weekday\") == True) & \n",
    "        (pl.col(\"year\") == 2020)\n",
    "    ).to_pandas(),\n",
    "    x=\"count_incoming\",\n",
    "    binwidth=10\n",
    ")"
   ]
  },
  {
   "cell_type": "code",
   "execution_count": null,
   "id": "7c3166e0-b601-47b7-9359-245e127a1291",
   "metadata": {
    "collapsed": true,
    "jupyter": {
     "outputs_hidden": true
    },
    "tags": []
   },
   "outputs": [],
   "source": [
    "x.filter(\n",
    "        (pl.col(\"month\") == \"Aug\") &\n",
    "        (pl.col(\"weekday\") == True) &\n",
    "        (pl.col(\"year\") == 2021)\n",
    "    )"
   ]
  },
  {
   "cell_type": "code",
   "execution_count": null,
   "id": "007bf92c-cfe3-44e6-8457-424a8b559b12",
   "metadata": {
    "collapsed": true,
    "jupyter": {
     "outputs_hidden": true
    },
    "tags": []
   },
   "outputs": [],
   "source": [
    "sns.set_theme()\n",
    "sns.set(rc={'figure.figsize':(10,6)})\n",
    "\n",
    "sns.catplot(\n",
    "    x.filter(\n",
    "        (pl.col(\"month\") == \"Aug\") &\n",
    "        (pl.col(\"weekday\") == True)\n",
    "    ).to_pandas(),\n",
    "    y=\"count_incoming\",\n",
    "    x=\"year\",\n",
    "    hue=\"day\",\n",
    ")"
   ]
  },
  {
   "cell_type": "code",
   "execution_count": null,
   "id": "bb7afa63-c51f-43cf-b161-e5b62eb0b24b",
   "metadata": {
    "tags": []
   },
   "outputs": [],
   "source": [
    "sns.set_theme()\n",
    "sns.set(rc={'figure.figsize':(10,6)})\n",
    "\n",
    "sns.relplot(\n",
    "    x.to_pandas(), \n",
    "    x=\"week\", \n",
    "    y=\"count_incoming\", \n",
    "    # hue=\"year\", \n",
    "    kind=\"line\", \n",
    "    palette=c,\n",
    "    height=4,\n",
    "    aspect=2,\n",
    "    row=\"year\"\n",
    ").set(title=\"Bike count: Adelaide Road (Incoming)\");\n",
    "\n",
    "plt.xlabel(\"Week\")\n",
    "plt.ylabel(\"Count\")\n",
    "plt.ylim(0,2100)\n",
    "\n",
    "\n",
    "plt.show();"
   ]
  },
  {
   "cell_type": "code",
   "execution_count": null,
   "id": "5583cc75-1c1f-494c-803e-14f5d9253ab9",
   "metadata": {
    "tags": []
   },
   "outputs": [],
   "source": [
    "sns.set_theme()\n",
    "sns.set(rc={'figure.figsize':(10,6)})\n",
    "\n",
    "sns.relplot(\n",
    "    x.filter(pl.col(\"count_incoming\") > 0).to_pandas(), \n",
    "    x=\"month\", \n",
    "    y=\"count_incoming\", \n",
    "    hue=\"year\", \n",
    "    kind=\"line\", \n",
    "    palette=c,\n",
    "    height=4,\n",
    "    aspect=2,\n",
    ").set(title=\"Bike count: Basin Reserve (Incoming)\");\n",
    "\n",
    "plt.xlabel(\"Month\")\n",
    "plt.ylabel(\"Count\")\n",
    "plt.ylim(0,6000)\n",
    "\n",
    "\n",
    "plt.show();"
   ]
  },
  {
   "cell_type": "code",
   "execution_count": null,
   "id": "351a0991-c196-4ea9-be52-55c599540eb1",
   "metadata": {
    "tags": []
   },
   "outputs": [],
   "source": [
    "sns.relplot(x.filter(pl.col(\"count_outgoing\") > 0).to_pandas(), x=\"month\", y=\"count_outgoing\", hue=\"year\", kind=\"line\", palette=c);"
   ]
  },
  {
   "cell_type": "code",
   "execution_count": null,
   "id": "11afe572-ba64-46e9-b024-d5913e587a46",
   "metadata": {
    "tags": []
   },
   "outputs": [],
   "source": [
    "plt.plot((\n",
    "    data.with_columns(\n",
    "        pl.col(\"record_time\").str.to_datetime()\n",
    "    )\n",
    "    .filter(pl.col(\"site_name\") == \"Basin Reserve\")\n",
    "    .sort(\"record_time\")\n",
    "    .groupby_dynamic(\"record_time\", every=\"1mo\")\n",
    "    .agg(\n",
    "        pl.col(\"count_incoming\").sum(),\n",
    "        pl.col(\"count_outgoing\").sum(),\n",
    "    )\n",
    ")[\"count_outgoing\"][45:])"
   ]
  },
  {
   "cell_type": "code",
   "execution_count": null,
   "id": "12e8bf78-ed15-4b5a-a369-560e25c4704d",
   "metadata": {},
   "outputs": [],
   "source": []
  }
 ],
 "metadata": {
  "kernelspec": {
   "display_name": "Python 3 (ipykernel)",
   "language": "python",
   "name": "python3"
  },
  "language_info": {
   "codemirror_mode": {
    "name": "ipython",
    "version": 3
   },
   "file_extension": ".py",
   "mimetype": "text/x-python",
   "name": "python",
   "nbconvert_exporter": "python",
   "pygments_lexer": "ipython3",
   "version": "3.10.4"
  }
 },
 "nbformat": 4,
 "nbformat_minor": 5
}
